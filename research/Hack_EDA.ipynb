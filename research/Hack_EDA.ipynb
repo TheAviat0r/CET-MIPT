{
 "cells": [
  {
   "cell_type": "code",
   "execution_count": 1,
   "metadata": {},
   "outputs": [],
   "source": [
    "import numpy as np\n",
    "import pandas as pd\n",
    "import matplotlib.pyplot as plt\n",
    "import seaborn as sns\n",
    "\n",
    "import warnings\n",
    "import os\n",
    "\n",
    "warnings.filterwarnings(\"ignore\")\n",
    "sns.set()"
   ]
  },
  {
   "cell_type": "code",
   "execution_count": 2,
   "metadata": {},
   "outputs": [
    {
     "data": {
      "text/html": [
       "<div>\n",
       "<style scoped>\n",
       "    .dataframe tbody tr th:only-of-type {\n",
       "        vertical-align: middle;\n",
       "    }\n",
       "\n",
       "    .dataframe tbody tr th {\n",
       "        vertical-align: top;\n",
       "    }\n",
       "\n",
       "    .dataframe thead th {\n",
       "        text-align: right;\n",
       "    }\n",
       "</style>\n",
       "<table border=\"1\" class=\"dataframe\">\n",
       "  <thead>\n",
       "    <tr style=\"text-align: right;\">\n",
       "      <th></th>\n",
       "      <th>Скважина</th>\n",
       "      <th>Дата</th>\n",
       "      <th>Характер работы</th>\n",
       "      <th>Состояние</th>\n",
       "      <th>Время работы, ч</th>\n",
       "      <th>Нефть, т</th>\n",
       "      <th>Вода, т</th>\n",
       "      <th>Жидкость, т</th>\n",
       "      <th>Попутный газ, м3</th>\n",
       "      <th>Закачка, м3</th>\n",
       "      <th>...</th>\n",
       "      <th>Р пл</th>\n",
       "      <th>Р заб расчётное</th>\n",
       "      <th>Потери давления на трение</th>\n",
       "      <th>Р затр</th>\n",
       "      <th>Р уст</th>\n",
       "      <th>Закачка за месяц</th>\n",
       "      <th>Рпл</th>\n",
       "      <th>k</th>\n",
       "      <th>Р уст.1</th>\n",
       "      <th>Р заб</th>\n",
       "    </tr>\n",
       "  </thead>\n",
       "  <tbody>\n",
       "    <tr>\n",
       "      <th>0</th>\n",
       "      <td>101</td>\n",
       "      <td>12/1/2016</td>\n",
       "      <td>НЕФ</td>\n",
       "      <td>РАБ.</td>\n",
       "      <td>744</td>\n",
       "      <td>186,44</td>\n",
       "      <td>241,84</td>\n",
       "      <td>428,28</td>\n",
       "      <td>7820</td>\n",
       "      <td>0</td>\n",
       "      <td>...</td>\n",
       "      <td>NaN</td>\n",
       "      <td>NaN</td>\n",
       "      <td>NaN</td>\n",
       "      <td>NaN</td>\n",
       "      <td>NaN</td>\n",
       "      <td>NaN</td>\n",
       "      <td>NaN</td>\n",
       "      <td>NaN</td>\n",
       "      <td>NaN</td>\n",
       "      <td>NaN</td>\n",
       "    </tr>\n",
       "    <tr>\n",
       "      <th>1</th>\n",
       "      <td>102</td>\n",
       "      <td>12/1/2016</td>\n",
       "      <td>НАГ</td>\n",
       "      <td>РАБ.</td>\n",
       "      <td>744</td>\n",
       "      <td>0</td>\n",
       "      <td>0</td>\n",
       "      <td>0</td>\n",
       "      <td>0</td>\n",
       "      <td>2096</td>\n",
       "      <td>...</td>\n",
       "      <td>258.0</td>\n",
       "      <td>436.472966</td>\n",
       "      <td>1.162974</td>\n",
       "      <td>195.0</td>\n",
       "      <td>196.0</td>\n",
       "      <td>2190.0</td>\n",
       "      <td>0.0</td>\n",
       "      <td>3.271276</td>\n",
       "      <td>196.0</td>\n",
       "      <td>430.412299</td>\n",
       "    </tr>\n",
       "    <tr>\n",
       "      <th>2</th>\n",
       "      <td>103</td>\n",
       "      <td>12/1/2016</td>\n",
       "      <td>НЕФ</td>\n",
       "      <td>РАБ.</td>\n",
       "      <td>744</td>\n",
       "      <td>554,09</td>\n",
       "      <td>399,36</td>\n",
       "      <td>953,45</td>\n",
       "      <td>23241</td>\n",
       "      <td>0</td>\n",
       "      <td>...</td>\n",
       "      <td>NaN</td>\n",
       "      <td>NaN</td>\n",
       "      <td>NaN</td>\n",
       "      <td>NaN</td>\n",
       "      <td>NaN</td>\n",
       "      <td>NaN</td>\n",
       "      <td>NaN</td>\n",
       "      <td>NaN</td>\n",
       "      <td>NaN</td>\n",
       "      <td>NaN</td>\n",
       "    </tr>\n",
       "    <tr>\n",
       "      <th>3</th>\n",
       "      <td>104</td>\n",
       "      <td>12/1/2016</td>\n",
       "      <td>НЕФ</td>\n",
       "      <td>РАБ.</td>\n",
       "      <td>744</td>\n",
       "      <td>225,65</td>\n",
       "      <td>351,29</td>\n",
       "      <td>576,94</td>\n",
       "      <td>9465</td>\n",
       "      <td>0</td>\n",
       "      <td>...</td>\n",
       "      <td>NaN</td>\n",
       "      <td>NaN</td>\n",
       "      <td>NaN</td>\n",
       "      <td>NaN</td>\n",
       "      <td>NaN</td>\n",
       "      <td>NaN</td>\n",
       "      <td>NaN</td>\n",
       "      <td>NaN</td>\n",
       "      <td>NaN</td>\n",
       "      <td>NaN</td>\n",
       "    </tr>\n",
       "    <tr>\n",
       "      <th>4</th>\n",
       "      <td>105</td>\n",
       "      <td>12/1/2016</td>\n",
       "      <td>НЕФ</td>\n",
       "      <td>РАБ.</td>\n",
       "      <td>744</td>\n",
       "      <td>953,7</td>\n",
       "      <td>284,71</td>\n",
       "      <td>1238,41</td>\n",
       "      <td>40002</td>\n",
       "      <td>0</td>\n",
       "      <td>...</td>\n",
       "      <td>NaN</td>\n",
       "      <td>NaN</td>\n",
       "      <td>NaN</td>\n",
       "      <td>NaN</td>\n",
       "      <td>NaN</td>\n",
       "      <td>NaN</td>\n",
       "      <td>NaN</td>\n",
       "      <td>NaN</td>\n",
       "      <td>NaN</td>\n",
       "      <td>NaN</td>\n",
       "    </tr>\n",
       "  </tbody>\n",
       "</table>\n",
       "<p>5 rows × 66 columns</p>\n",
       "</div>"
      ],
      "text/plain": [
       "  Скважина       Дата Характер работы Состояние  Время работы, ч Нефть, т  \\\n",
       "0      101  12/1/2016             НЕФ      РАБ.              744   186,44   \n",
       "1      102  12/1/2016             НАГ      РАБ.              744        0   \n",
       "2      103  12/1/2016             НЕФ      РАБ.              744   554,09   \n",
       "3      104  12/1/2016             НЕФ      РАБ.              744   225,65   \n",
       "4      105  12/1/2016             НЕФ      РАБ.              744    953,7   \n",
       "\n",
       "  Вода, т Жидкость, т  Попутный газ, м3  Закачка, м3  ...   Р пл  \\\n",
       "0  241,84      428,28              7820            0  ...    NaN   \n",
       "1       0           0                 0         2096  ...  258.0   \n",
       "2  399,36      953,45             23241            0  ...    NaN   \n",
       "3  351,29      576,94              9465            0  ...    NaN   \n",
       "4  284,71     1238,41             40002            0  ...    NaN   \n",
       "\n",
       "  Р заб расчётное Потери давления на трение Р затр  Р уст Закачка за месяц  \\\n",
       "0             NaN                       NaN    NaN    NaN              NaN   \n",
       "1      436.472966                  1.162974  195.0  196.0           2190.0   \n",
       "2             NaN                       NaN    NaN    NaN              NaN   \n",
       "3             NaN                       NaN    NaN    NaN              NaN   \n",
       "4             NaN                       NaN    NaN    NaN              NaN   \n",
       "\n",
       "   Рпл         k  Р уст.1       Р заб  \n",
       "0  NaN       NaN      NaN         NaN  \n",
       "1  0.0  3.271276    196.0  430.412299  \n",
       "2  NaN       NaN      NaN         NaN  \n",
       "3  NaN       NaN      NaN         NaN  \n",
       "4  NaN       NaN      NaN         NaN  \n",
       "\n",
       "[5 rows x 66 columns]"
      ]
     },
     "execution_count": 2,
     "metadata": {},
     "output_type": "execute_result"
    }
   ],
   "source": [
    "DATA_PATH = \".\"\n",
    "\n",
    "train_towers = pd.read_csv(os.path.join(DATA_PATH, \"train_towers.csv\"))\n",
    "train_geo = pd.read_csv(os.path.join(DATA_PATH, \"train_geo.csv\"))\n",
    "test_towers = pd.read_csv(os.path.join(DATA_PATH, \"test_towers.csv\"))\n",
    "test_geo = pd.read_csv(os.path.join(DATA_PATH, \"test_geo.csv\"))\n",
    "\n",
    "train_towers.head()"
   ]
  },
  {
   "cell_type": "code",
   "execution_count": 3,
   "metadata": {},
   "outputs": [
    {
     "data": {
      "text/html": [
       "<div>\n",
       "<style scoped>\n",
       "    .dataframe tbody tr th:only-of-type {\n",
       "        vertical-align: middle;\n",
       "    }\n",
       "\n",
       "    .dataframe tbody tr th {\n",
       "        vertical-align: top;\n",
       "    }\n",
       "\n",
       "    .dataframe thead th {\n",
       "        text-align: right;\n",
       "    }\n",
       "</style>\n",
       "<table border=\"1\" class=\"dataframe\">\n",
       "  <thead>\n",
       "    <tr style=\"text-align: right;\">\n",
       "      <th></th>\n",
       "      <th>№ скважины</th>\n",
       "      <th>Координата X</th>\n",
       "      <th>Координата Y</th>\n",
       "    </tr>\n",
       "  </thead>\n",
       "  <tbody>\n",
       "    <tr>\n",
       "      <th>0</th>\n",
       "      <td>101</td>\n",
       "      <td>6622056</td>\n",
       "      <td>504780</td>\n",
       "    </tr>\n",
       "    <tr>\n",
       "      <th>1</th>\n",
       "      <td>102</td>\n",
       "      <td>6621645</td>\n",
       "      <td>504916</td>\n",
       "    </tr>\n",
       "    <tr>\n",
       "      <th>2</th>\n",
       "      <td>103</td>\n",
       "      <td>6621857</td>\n",
       "      <td>504372</td>\n",
       "    </tr>\n",
       "    <tr>\n",
       "      <th>3</th>\n",
       "      <td>104</td>\n",
       "      <td>6621436</td>\n",
       "      <td>504586</td>\n",
       "    </tr>\n",
       "    <tr>\n",
       "      <th>4</th>\n",
       "      <td>105</td>\n",
       "      <td>6621585</td>\n",
       "      <td>505642</td>\n",
       "    </tr>\n",
       "  </tbody>\n",
       "</table>\n",
       "</div>"
      ],
      "text/plain": [
       "  № скважины  Координата X  Координата Y\n",
       "0        101       6622056        504780\n",
       "1        102       6621645        504916\n",
       "2        103       6621857        504372\n",
       "3        104       6621436        504586\n",
       "4        105       6621585        505642"
      ]
     },
     "execution_count": 3,
     "metadata": {},
     "output_type": "execute_result"
    }
   ],
   "source": [
    "train_geo.head()"
   ]
  },
  {
   "cell_type": "code",
   "execution_count": 4,
   "metadata": {},
   "outputs": [
    {
     "data": {
      "text/html": [
       "<div>\n",
       "<style scoped>\n",
       "    .dataframe tbody tr th:only-of-type {\n",
       "        vertical-align: middle;\n",
       "    }\n",
       "\n",
       "    .dataframe tbody tr th {\n",
       "        vertical-align: top;\n",
       "    }\n",
       "\n",
       "    .dataframe thead th {\n",
       "        text-align: right;\n",
       "    }\n",
       "</style>\n",
       "<table border=\"1\" class=\"dataframe\">\n",
       "  <thead>\n",
       "    <tr style=\"text-align: right;\">\n",
       "      <th></th>\n",
       "      <th>Скважина</th>\n",
       "      <th>Дата</th>\n",
       "      <th>Характер работы</th>\n",
       "      <th>Состояние</th>\n",
       "      <th>Время работы, ч</th>\n",
       "      <th>Нефть, т</th>\n",
       "      <th>Вода, т</th>\n",
       "      <th>Жидкость, т</th>\n",
       "      <th>Попутный газ, м3</th>\n",
       "      <th>Закачка, м3</th>\n",
       "      <th>...</th>\n",
       "      <th>Потери давления на трение</th>\n",
       "      <th>Р затр</th>\n",
       "      <th>Р уст</th>\n",
       "      <th>Закачка за месяц</th>\n",
       "      <th>Рпл</th>\n",
       "      <th>k</th>\n",
       "      <th>Р уст.1</th>\n",
       "      <th>Р заб</th>\n",
       "      <th>geo_x</th>\n",
       "      <th>geo_y</th>\n",
       "    </tr>\n",
       "  </thead>\n",
       "  <tbody>\n",
       "    <tr>\n",
       "      <th>0</th>\n",
       "      <td>101</td>\n",
       "      <td>12/1/2016</td>\n",
       "      <td>НЕФ</td>\n",
       "      <td>РАБ.</td>\n",
       "      <td>744</td>\n",
       "      <td>186,44</td>\n",
       "      <td>241,84</td>\n",
       "      <td>428,28</td>\n",
       "      <td>7820</td>\n",
       "      <td>0</td>\n",
       "      <td>...</td>\n",
       "      <td>NaN</td>\n",
       "      <td>NaN</td>\n",
       "      <td>NaN</td>\n",
       "      <td>NaN</td>\n",
       "      <td>NaN</td>\n",
       "      <td>NaN</td>\n",
       "      <td>NaN</td>\n",
       "      <td>NaN</td>\n",
       "      <td>6622056</td>\n",
       "      <td>504780</td>\n",
       "    </tr>\n",
       "    <tr>\n",
       "      <th>1</th>\n",
       "      <td>101</td>\n",
       "      <td>11/1/2016</td>\n",
       "      <td>НЕФ</td>\n",
       "      <td>РАБ.</td>\n",
       "      <td>720</td>\n",
       "      <td>235,45</td>\n",
       "      <td>193,7</td>\n",
       "      <td>429,14</td>\n",
       "      <td>9884</td>\n",
       "      <td>0</td>\n",
       "      <td>...</td>\n",
       "      <td>NaN</td>\n",
       "      <td>NaN</td>\n",
       "      <td>NaN</td>\n",
       "      <td>NaN</td>\n",
       "      <td>NaN</td>\n",
       "      <td>NaN</td>\n",
       "      <td>NaN</td>\n",
       "      <td>NaN</td>\n",
       "      <td>6622056</td>\n",
       "      <td>504780</td>\n",
       "    </tr>\n",
       "    <tr>\n",
       "      <th>2</th>\n",
       "      <td>101</td>\n",
       "      <td>10/1/2016</td>\n",
       "      <td>НЕФ</td>\n",
       "      <td>РАБ.</td>\n",
       "      <td>744</td>\n",
       "      <td>247,8</td>\n",
       "      <td>190,08</td>\n",
       "      <td>437,87</td>\n",
       "      <td>10502</td>\n",
       "      <td>0</td>\n",
       "      <td>...</td>\n",
       "      <td>NaN</td>\n",
       "      <td>NaN</td>\n",
       "      <td>NaN</td>\n",
       "      <td>NaN</td>\n",
       "      <td>NaN</td>\n",
       "      <td>NaN</td>\n",
       "      <td>NaN</td>\n",
       "      <td>NaN</td>\n",
       "      <td>6622056</td>\n",
       "      <td>504780</td>\n",
       "    </tr>\n",
       "    <tr>\n",
       "      <th>3</th>\n",
       "      <td>101</td>\n",
       "      <td>9/1/2016</td>\n",
       "      <td>НЕФ</td>\n",
       "      <td>РАБ.</td>\n",
       "      <td>720</td>\n",
       "      <td>280,39</td>\n",
       "      <td>189,92</td>\n",
       "      <td>470,31</td>\n",
       "      <td>12203</td>\n",
       "      <td>0</td>\n",
       "      <td>...</td>\n",
       "      <td>NaN</td>\n",
       "      <td>NaN</td>\n",
       "      <td>NaN</td>\n",
       "      <td>NaN</td>\n",
       "      <td>NaN</td>\n",
       "      <td>NaN</td>\n",
       "      <td>NaN</td>\n",
       "      <td>NaN</td>\n",
       "      <td>6622056</td>\n",
       "      <td>504780</td>\n",
       "    </tr>\n",
       "    <tr>\n",
       "      <th>4</th>\n",
       "      <td>101</td>\n",
       "      <td>8/1/2016</td>\n",
       "      <td>НЕФ</td>\n",
       "      <td>РАБ.</td>\n",
       "      <td>744</td>\n",
       "      <td>319,35</td>\n",
       "      <td>208,11</td>\n",
       "      <td>527,47</td>\n",
       "      <td>13740</td>\n",
       "      <td>0</td>\n",
       "      <td>...</td>\n",
       "      <td>NaN</td>\n",
       "      <td>NaN</td>\n",
       "      <td>NaN</td>\n",
       "      <td>NaN</td>\n",
       "      <td>NaN</td>\n",
       "      <td>NaN</td>\n",
       "      <td>NaN</td>\n",
       "      <td>NaN</td>\n",
       "      <td>6622056</td>\n",
       "      <td>504780</td>\n",
       "    </tr>\n",
       "  </tbody>\n",
       "</table>\n",
       "<p>5 rows × 68 columns</p>\n",
       "</div>"
      ],
      "text/plain": [
       "  Скважина       Дата Характер работы Состояние  Время работы, ч Нефть, т  \\\n",
       "0      101  12/1/2016             НЕФ      РАБ.              744   186,44   \n",
       "1      101  11/1/2016             НЕФ      РАБ.              720   235,45   \n",
       "2      101  10/1/2016             НЕФ      РАБ.              744    247,8   \n",
       "3      101   9/1/2016             НЕФ      РАБ.              720   280,39   \n",
       "4      101   8/1/2016             НЕФ      РАБ.              744   319,35   \n",
       "\n",
       "  Вода, т Жидкость, т  Попутный газ, м3  Закачка, м3  ...  \\\n",
       "0  241,84      428,28              7820            0  ...   \n",
       "1   193,7      429,14              9884            0  ...   \n",
       "2  190,08      437,87             10502            0  ...   \n",
       "3  189,92      470,31             12203            0  ...   \n",
       "4  208,11      527,47             13740            0  ...   \n",
       "\n",
       "  Потери давления на трение Р затр Р уст Закачка за месяц Рпл   k  Р уст.1  \\\n",
       "0                       NaN    NaN   NaN              NaN NaN NaN      NaN   \n",
       "1                       NaN    NaN   NaN              NaN NaN NaN      NaN   \n",
       "2                       NaN    NaN   NaN              NaN NaN NaN      NaN   \n",
       "3                       NaN    NaN   NaN              NaN NaN NaN      NaN   \n",
       "4                       NaN    NaN   NaN              NaN NaN NaN      NaN   \n",
       "\n",
       "   Р заб    geo_x   geo_y  \n",
       "0    NaN  6622056  504780  \n",
       "1    NaN  6622056  504780  \n",
       "2    NaN  6622056  504780  \n",
       "3    NaN  6622056  504780  \n",
       "4    NaN  6622056  504780  \n",
       "\n",
       "[5 rows x 68 columns]"
      ]
     },
     "execution_count": 4,
     "metadata": {},
     "output_type": "execute_result"
    }
   ],
   "source": [
    "train = pd.merge(train_towers, train_geo, left_on=\"Скважина\", right_on=\"№ скважины\")\n",
    "train = train.rename(columns={\"Координата X\": \"geo_x\", \"Координата Y\": \"geo_y\"})\n",
    "#train = train.rename(columns={\n",
    "#    \"Состояние\": \"condition\",\n",
    "#    \"Характер работы\": \"type\",\n",
    "#    \"Нефть, т\": \"oil\",\n",
    "#    \"Вода, т\": \"water\",\n",
    "#    \"Жидкость, т\": \"liquid\",\n",
    "#})\n",
    "train = train.drop(\"№ скважины\", axis=1)\n",
    "train.head()"
   ]
  },
  {
   "cell_type": "code",
   "execution_count": 5,
   "metadata": {},
   "outputs": [],
   "source": [
    "oil_df = train[train['Агент закачки'].notnull()][train['Состояние'] == 'РАБ.'].copy()\n",
    "water_df = train[train['Агент закачки'].isnull()][train['Состояние'] == 'РАБ.'].copy()\n",
    "\n",
    "def remove_bad_cols(df):\n",
    "    bad_cols = []\n",
    "\n",
    "    for col in df.columns:\n",
    "        has_nan = any(df[col].isnull())\n",
    "        unique_values = df[col].nunique()\n",
    "    \n",
    "        if has_nan and unique_values == 1:\n",
    "            print(f\"Column {col} has NaN values - {unique_values}\")\n",
    "            bad_cols.append(col)\n",
    "            \n",
    "    df = df.drop(bad_cols, axis=1)\n",
    "            \n",
    "    return df, bad_cols\n",
    "\n",
    "def get_target_cols(df):\n",
    "    oil_targets = [\n",
    "        'Нефть, т',\n",
    "        'Нефть, м3',\n",
    "        'Вода, т',\n",
    "        'Жидкость, т',\n",
    "        'Жидкость, м3',\n",
    "        'Попутный газ, м3',\n",
    "        'Обводненность (вес), %',\n",
    "        'Обводненность'\n",
    "    ]\n",
    "            \n",
    "    return oil_targets\n",
    "\n",
    "def get_closest_water_towers(df, date, x_col, y_col):\n",
    "    cols = ['Скважина', x_col, y_col]\n",
    "    nef = df[df.type == 'НЕФ'][df['Дата'] == date]\n",
    "    wat = df[df.type == 'НАГ'][df['Дата'] == date]\n",
    "    \n",
    "    tower_mapping = {} \n",
    "\n",
    "    for tower in nef[cols].drop_duplicates().values:\n",
    "        id = tower[0]\n",
    "        x = tower[1]\n",
    "        y = tower[2]\n",
    "    \n",
    "        distances = []\n",
    "    \n",
    "        for wat_tower in wat[cols].drop_duplicates().values:\n",
    "            w_id = wat_tower[0]\n",
    "            w_x = wat_tower[1]\n",
    "            w_y = wat_tower[2]\n",
    "        \n",
    "            distance = np.sqrt((x - w_x) ** 2 + (y - w_y) ** 2)\n",
    "            distances.append((distance, w_id))\n",
    "            \n",
    "        tower_mapping[id] = distances\n",
    "        \n",
    "    tower_mapping = {name: sorted(distances)[:3] for name, closest in tower_mapping.items()}\n",
    "    \n",
    "    return tower_mapping"
   ]
  },
  {
   "cell_type": "code",
   "execution_count": 413,
   "metadata": {},
   "outputs": [
    {
     "name": "stdout",
     "output_type": "stream",
     "text": [
      "Category - Агент закачки - 12 unique\n",
      "Category - Тип скважины - 2 unique\n",
      "Category - Удлинение - 25 unique\n",
      "Category - Затрубное давление - 23 unique\n",
      "Category - Состояние на конец месяца - 2 unique\n"
     ]
    },
    {
     "data": {
      "text/plain": [
       "['Время работы, ч',\n",
       " 'Закачка, м3',\n",
       " 'Агент закачки',\n",
       " 'Тип скважины',\n",
       " 'Диаметр НКТ',\n",
       " 'Диаметр штуцера',\n",
       " 'Глубина верхних дыр перфорации',\n",
       " 'Удлинение',\n",
       " 'Производительность ЭЦН',\n",
       " 'Напор',\n",
       " 'Частота',\n",
       " 'Глубина спуска',\n",
       " 'Пластовое давление',\n",
       " 'Динамическая высота',\n",
       " 'Затрубное давление',\n",
       " 'Давление на приеме',\n",
       " 'Забойное давление',\n",
       " 'Состояние на конец месяца',\n",
       " 'Газовый фактор',\n",
       " 'Вязкость жидкости в пласт. условиях',\n",
       " 'Дата ввода в эксплуатацию',\n",
       " 'Замерное забойное давление',\n",
       " 'Дата перевода в ППД',\n",
       " 'Н вд',\n",
       " 'Н нд',\n",
       " 'D э/к',\n",
       " 'D нкт',\n",
       " 'Н сп',\n",
       " 'Приемистость',\n",
       " 'Р пл',\n",
       " 'Р заб расчётное',\n",
       " 'Потери давления на трение',\n",
       " 'Р уст',\n",
       " 'Закачка за месяц',\n",
       " 'Рпл',\n",
       " 'k',\n",
       " 'Р уст.1',\n",
       " 'Р заб']"
      ]
     },
     "execution_count": 413,
     "metadata": {},
     "output_type": "execute_result"
    }
   ],
   "source": [
    "oil_df, bad_cols = remove_bad_cols(oil_df)\n",
    "water_df, w_bad_cols = remove_bad_cols(water_df)\n",
    "\n",
    "targets = get_target_cols(train)\n",
    "\n",
    "unused_cols = [\n",
    "    \"Скважина\",\n",
    "    \"Дата\",\n",
    "    \"Характер работы\",\n",
    "    \"Состояние\",\n",
    "    \"Буферное давление\",\n",
    "    \"Давление в линии\",\n",
    "    \"Удл\",\n",
    "    'Р затр',\n",
    "    \"geo_x\",\n",
    "    \"geo_y\"\n",
    "] + target_cols\n",
    "\n",
    "feature_cols = [col for col in oil_df.columns if col not in unused_cols]\n",
    "categorical_cols = list(oil_df[feature_cols].select_dtypes(include=[\"object\"]).columns)\n",
    "\n",
    "for col in categorical_cols:\n",
    "    print(f\"Category - {col} - {oil_df[col].nunique()} unique\")\n",
    "    \n",
    "float_cols = [\n",
    "    'Давление на приеме',\n",
    "    'Забойное давление',\n",
    "    'Замерное забойное давление',\n",
    "    'Динамическая высота'\n",
    "]\n",
    "\n",
    "categorical_cols = [col for col in categorical_cols if col not in float_cols]\n",
    "\n",
    "for col in float_cols:\n",
    "    oil_df[col] = oil_df[col].astype(\"float\")\n",
    "    \n",
    "feature_cols"
   ]
  },
  {
   "cell_type": "code",
   "execution_count": 306,
   "metadata": {},
   "outputs": [
    {
     "data": {
      "text/plain": [
       "['Агент закачки',\n",
       " 'Тип скважины',\n",
       " 'Удлинение',\n",
       " 'Затрубное давление',\n",
       " 'Состояние на конец месяца']"
      ]
     },
     "execution_count": 306,
     "metadata": {},
     "output_type": "execute_result"
    }
   ],
   "source": [
    "categorical_cols"
   ]
  },
  {
   "cell_type": "code",
   "execution_count": 361,
   "metadata": {},
   "outputs": [
    {
     "name": "stdout",
     "output_type": "stream",
     "text": [
      "Encoding Агент закачки\n",
      "Encoding Тип скважины\n",
      "Encoding Удлинение\n",
      "Encoding Затрубное давление\n",
      "Encoding Состояние на конец месяца\n"
     ]
    }
   ],
   "source": [
    "from sklearn.model_selection import train_test_split\n",
    "from sklearn.ensemble import GradientBoostingRegressor\n",
    "from sklearn.preprocessing import LabelEncoder\n",
    "\n",
    "target = target_cols[0]\n",
    "\n",
    "X = oil_df[feature_cols].copy()\n",
    "y = oil_df[target].copy()\n",
    "\n",
    "y = y.astype(\"str\").apply(lambda x: x.replace(\",\", \".\"))\n",
    "y = y.apply(lambda x: x.replace(\" \", \"\")).astype(\"float\")\n",
    "\n",
    "enc = LabelEncoder()\n",
    "for col in categorical_cols:\n",
    "    print(f\"Encoding {col}\")\n",
    "    X[col] = X[col].fillna(\"\")\n",
    "    X[col] = enc.fit_transform(X[col])\n",
    "\n",
    "X_train, X_test, y_train, y_test = train_test_split(X, y, test_size=0.2)"
   ]
  },
  {
   "cell_type": "code",
   "execution_count": 364,
   "metadata": {},
   "outputs": [
    {
     "data": {
      "text/plain": [
       "GradientBoostingRegressor(alpha=0.9, criterion='friedman_mse', init=None,\n",
       "                          learning_rate=0.1, loss='ls', max_depth=3,\n",
       "                          max_features=None, max_leaf_nodes=None,\n",
       "                          min_impurity_decrease=0.0, min_impurity_split=None,\n",
       "                          min_samples_leaf=1, min_samples_split=2,\n",
       "                          min_weight_fraction_leaf=0.0, n_estimators=100,\n",
       "                          n_iter_no_change=None, presort='auto',\n",
       "                          random_state=None, subsample=1.0, tol=0.0001,\n",
       "                          validation_fraction=0.1, verbose=0, warm_start=False)"
      ]
     },
     "execution_count": 364,
     "metadata": {},
     "output_type": "execute_result"
    }
   ],
   "source": [
    "model = GradientBoostingRegressor()\n",
    "model.fit(X_train.fillna(0), y_train)"
   ]
  },
  {
   "cell_type": "code",
   "execution_count": 373,
   "metadata": {},
   "outputs": [
    {
     "data": {
      "text/plain": [
       "0.2666327663568649"
      ]
     },
     "execution_count": 373,
     "metadata": {},
     "output_type": "execute_result"
    }
   ],
   "source": [
    "from sklearn.metrics import mean_absolute_error\n",
    "\n",
    "y_pred = model.predict(X_test.fillna(0))\n",
    "err = mean_absolute_error(y_test, y_pred) / y_test.max() * 100\n",
    "err"
   ]
  },
  {
   "cell_type": "code",
   "execution_count": 207,
   "metadata": {},
   "outputs": [
    {
     "data": {
      "image/png": "[encoded data removed]",
      "text/plain": [
       "<Figure size 1008x576 with 1 Axes>"
      ]
     },
     "metadata": {
      "needs_background": "light"
     },
     "output_type": "display_data"
    }
   ],
   "source": [
    "coords = pd.read_csv('towers_map.csv')\n",
    "\n",
    "def fix_y_coords(x):\n",
    "    if x >= 150:\n",
    "        x = x - 200\n",
    "        \n",
    "    return x\n",
    "\n",
    "coords.geo_y = coords.geo_y.apply(fix_y_coords)\n",
    "coords.geo_x = (coords.geo_x * 1.3 + 10).astype(\"int\")\n",
    "coords.geo_y = (coords.geo_y + 50).astype(\"int\")\n",
    "\n",
    "plt.figure(figsize=(14,8))\n",
    "plt.scatter(coords[\"geo_x\"], coords[\"geo_y\"], c=coords[\"color\"])\n",
    "plt.title(\"Towers map\")\n",
    "plt.show()"
   ]
  },
  {
   "cell_type": "code",
   "execution_count": 208,
   "metadata": {},
   "outputs": [
    {
     "name": "stdout",
     "output_type": "stream",
     "text": [
      "[50, 123, 123, 113, 128, 145, 145, 133, 153, 118, 118, 106, 131, 51, 162, 162, 116, 72, 140, 140, 122, 160, 160, 150, 114, 114, 138, 138, 134, 125, 73, 158, 158, 144, 99, 137, 126, 84, 84, 195, 111, 111, 120, 60, 60, 147, 97, 82, 82, 136, 136, 124, 70, 109, 109, 154, 154, 58, 95, 143, 52, 52, 146, 80, 80, 69, 129, 107, 107, 135, 56, 152, 93, 121, 78, 142, 67, 105, 183, 159, 54, 54, 88, 132, 132, 64, 9, 9, 151, 151, 175, 175, 76, 76, 119, 191, 66, 32, 32, 167, 167, 103, 103, 53, 141, 86, 182, 182, 157, 17, 130, 75, 174, 48, 8, 8, 63, 149, 149, 102, 102, 172, 29, 29, 166, 91, 139, 197, 61, 61, 74, 74, 156, 180, 180, 127, 127, 62, 148, 148, 100, 173, 4, 4, 85, 164, 164, 193, 47, 59, 112, 36, 177, 61, 21, 155, 98, 98, 83, 83, 83, 68, 71, 0, 0, 44, 171, 163, 163, 110, 59, 25, 25, 55, 55, 192, 96, 96, 73, 55, 81, 92, 92, 40, 20, 63, 108, 57, 79, 94, 185, 185, 196, 53, 53, 79, 98, 34, 12, 113, 68, 68, 70, 106, 87, 87, 92, 92, 42, 22, 22, 105, 77, 117, 117, 51, 51, 104, 76, 76, 96, 96, 112, 112, 90, 33, 66, 103, 85, 115, 115, 65, 65, 18, 18, 26, 60, 41, 89, 89, 75, 75, 104, 104, 28, 93, 93, 50, 64, 101, 81, 100, 109, 109, 71, 71, 80, 90, 90, 62, 45, 88, 88, 74, 58, 58, 102, 43, 86, 24, 24, 72, 10, 56, 190, 190, 99, 39, 6, 84, 84, 23, 23, 69, 38, 7, 110, 54, 54, 97, 189, 189, 37, 3, 82, 82, 19, 101, 67, 178, 35, 107, 111, 5, 52, 188, 188, 95, 31, 2, 91, 78, 15, 15, 27, 65, 11, 11, 1, 106, 106, 49, 49, 89, 187, 194, 30, 94, 94, 77, 77, 181, 14, 14, 9, 169, 169, 114, 176, 198, 46, 46, 16, 186, 186, 170, 179, 57, 13, 13, 168, 199, 184, 165, 165, 161, 108]\n"
     ]
    }
   ],
   "source": [
    "print(list(coords.geo_y))"
   ]
  },
  {
   "cell_type": "code",
   "execution_count": 176,
   "metadata": {},
   "outputs": [
    {
     "name": "stdout",
     "output_type": "stream",
     "text": [
      "['40.0', 0, '33.0', '50.0', '18.0', '19.0', '30.0', 0, '50.0', 0, 0, '31.0', '20.0', 0, 0, 0, 0, '26.0', '20.0', 0, 0, 0, '49.0', '34.0', 0, 0, '40.0', 0, 0, 0, 0, '28.0', 0, 0, 0, '57.09', '27.0', '19.0', 0, 0, '69.0', '56.0', '83.0', 0, '27.0', 0, '20.0', '23.0', '64.0', 0, 0, 0, 0, 0, '34.0', '14.0', '15.0', '14.0', 0, '90.0', 0, '31.0', 0, '76.0', '79.0', '8.0', '15.0', 0, 0, 0, '78.0', '60.0', '47.0', '28.0', '40.0', 0, '33.0', 0, 0, '91.0', 0, '52.0', 0, 0, 0, 0, '70.0', 0, '60.0', '59.0', '33.0', 0, '84.0', '47.0', '38.0', 0, '50.0', 0, 0, 0, 0, '83.0', '66.0', 0, 0, '64.0', '94.0', 0, 0, 0, 0, '84.0', 0, '58.0', 0, 0, 0, 0, '82.0', '91.0', '50.0', 0, '60.0', '50.0', 0, 0, '71.0', 0, '36.0', '85.0', '46.0', 0, 0, 0, 0, '62.0', '71.0', '43.0', '93.0', 0, '88.0', '62.0', '82.0', 0, '35.0', '88.0', 0, 0, '50.0', '73.0', 0, 0, '24.0', '77.0', 0, 0, '25.0', '29.0', 0, 0, '60.0', '60.0', 0, '69.0', '61.0', '85.0', 0, 0, 0, 0, 0, 0, '77.0', 0, '70.0', 0, 0, '60.0', 0, 0, '84.0', '78.0', '30.0', '81.0', 0, 0, '33.0', 0, '74.0', '90.0', '85.0', 0, 0, 0, 0, 0, 0, 0, '75.0', '91.0', '90.0', 0, '41.0', '62.0', '50.0', 0, '65.0', '95.0', '58.0', '89.0', '84.0', 0, 0, '36.0', 0, 0, 0, '86.0', 0, '48.0', 0, '58.0', 0, 0, 0, 0, 0, '88.0', '91.0', '19.0', '65.0', '84.0', '40.0', 0, 0, 0, 0, 0, 0, 0, 0, '77.0', 0, 0, 0, 0, '12.0', 0, 0, '32.0', '70.0', 0, 0, 0, 0, 0, 0, 0, 0, 0]\n"
     ]
    }
   ],
   "source": [
    "cols = ['Дата', 'Скважина', 'Обводненность']\n",
    "\n",
    "output = train[cols][train['Дата'] == '12/1/2016'].drop_duplicates().fillna(0)[['Скважина', 'Обводненность']]\n",
    "output.columns = ['label', 'water']\n",
    "\n",
    "print(list(output.water))"
   ]
  },
  {
   "cell_type": "code",
   "execution_count": 6,
   "metadata": {},
   "outputs": [
    {
     "data": {
      "text/plain": [
       "array([  0.  , 152.25,  64.  , 187.44, 107.  , 750.  , 584.  ,  59.  ,\n",
       "        23.  ,  24.  , 417.71, 319.  ,   6.55, 613.  ,  12.  ,  83.  ,\n",
       "       331.  , 234.  , 165.  , 309.  , 148.  ,  50.  ,  33.  ,   8.  ,\n",
       "         2.  , 344.  ,  81.  , 766.  , 376.  , 397.  , 156.  , 250.  ,\n",
       "       102.  , 120.  , 399.  , 113.  ,  98.  ,  52.  ,  72.  ,  58.  ,\n",
       "       174.  ,  14.  , 135.  ,  39.  , 222.61, 180.34, 138.69,  58.35,\n",
       "       507.  ])"
      ]
     },
     "execution_count": 6,
     "metadata": {},
     "output_type": "execute_result"
    }
   ],
   "source": [
    "target = 'Нефть, т'\n",
    "\n",
    "oil_df[target] = oil_df[target].astype('str').apply(lambda s: s.replace(\",\", \".\")).astype(\"float\")\n",
    "oil_df[target].unique()"
   ]
  },
  {
   "cell_type": "code",
   "execution_count": 7,
   "metadata": {},
   "outputs": [
    {
     "data": {
      "text/plain": [
       "year\n",
       "2008     165.00\n",
       "2009    1304.00\n",
       "2010    1527.00\n",
       "2011    2200.00\n",
       "2012     716.00\n",
       "2013    1869.00\n",
       "2014     831.71\n",
       "2015     599.99\n",
       "2016     346.24\n",
       "Name: Нефть, т, dtype: float64"
      ]
     },
     "execution_count": 7,
     "metadata": {},
     "output_type": "execute_result"
    }
   ],
   "source": [
    "oil_df[\"year\"] = oil_df['Дата'].apply(lambda s: s.split(\"/\")[2])\n",
    "target_cols = [\"year\", target]\n",
    "\n",
    "output_df = oil_df[target_cols].sort_values(by=[\"year\"])\n",
    "output_df = output_df.groupby(\"year\")[target].sum()\n",
    "output_df"
   ]
  },
  {
   "cell_type": "code",
   "execution_count": 13,
   "metadata": {},
   "outputs": [
    {
     "data": {
      "text/plain": [
       "'[{\"labels\": [\"2008\", \"2009\", \"2010\", \"2011\", \"2012\", \"2013\", \"2014\", \"2015\", \"2016\"], \"data\": [315.0, 1454.0, 1677.0, 2350.0, 866.0, 2019.0, 981.71, 749.99, 496.24]}]'"
      ]
     },
     "execution_count": 13,
     "metadata": {},
     "output_type": "execute_result"
    }
   ],
   "source": [
    "import json\n",
    "output = [{\"labels\": list(output_df.index), \"data\": list(output_df.values + 150)}]\n",
    "json.dumps(output)"
   ]
  },
  {
   "cell_type": "code",
   "execution_count": 40,
   "metadata": {},
   "outputs": [
    {
     "data": {
      "text/html": [
       "<div>\n",
       "<style scoped>\n",
       "    .dataframe tbody tr th:only-of-type {\n",
       "        vertical-align: middle;\n",
       "    }\n",
       "\n",
       "    .dataframe tbody tr th {\n",
       "        vertical-align: top;\n",
       "    }\n",
       "\n",
       "    .dataframe thead th {\n",
       "        text-align: right;\n",
       "    }\n",
       "</style>\n",
       "<table border=\"1\" class=\"dataframe\">\n",
       "  <thead>\n",
       "    <tr style=\"text-align: right;\">\n",
       "      <th></th>\n",
       "      <th>Скважина_x</th>\n",
       "      <th>Дата_x</th>\n",
       "      <th>prediction_whater_mean</th>\n",
       "      <th>prediction_neft</th>\n",
       "    </tr>\n",
       "  </thead>\n",
       "  <tbody>\n",
       "    <tr>\n",
       "      <th>0</th>\n",
       "      <td>101</td>\n",
       "      <td>01.12.2016</td>\n",
       "      <td>1832.784904</td>\n",
       "      <td>412.578685</td>\n",
       "    </tr>\n",
       "    <tr>\n",
       "      <th>1</th>\n",
       "      <td>103</td>\n",
       "      <td>01.12.2016</td>\n",
       "      <td>1832.784904</td>\n",
       "      <td>519.450882</td>\n",
       "    </tr>\n",
       "    <tr>\n",
       "      <th>2</th>\n",
       "      <td>104</td>\n",
       "      <td>01.12.2016</td>\n",
       "      <td>1832.784904</td>\n",
       "      <td>381.339403</td>\n",
       "    </tr>\n",
       "    <tr>\n",
       "      <th>3</th>\n",
       "      <td>105</td>\n",
       "      <td>01.12.2016</td>\n",
       "      <td>1832.784904</td>\n",
       "      <td>744.110913</td>\n",
       "    </tr>\n",
       "    <tr>\n",
       "      <th>4</th>\n",
       "      <td>107</td>\n",
       "      <td>01.12.2016</td>\n",
       "      <td>1832.784904</td>\n",
       "      <td>1034.803023</td>\n",
       "    </tr>\n",
       "  </tbody>\n",
       "</table>\n",
       "</div>"
      ],
      "text/plain": [
       "  Скважина_x      Дата_x  prediction_whater_mean  prediction_neft\n",
       "0        101  01.12.2016             1832.784904       412.578685\n",
       "1        103  01.12.2016             1832.784904       519.450882\n",
       "2        104  01.12.2016             1832.784904       381.339403\n",
       "3        105  01.12.2016             1832.784904       744.110913\n",
       "4        107  01.12.2016             1832.784904      1034.803023"
      ]
     },
     "execution_count": 40,
     "metadata": {},
     "output_type": "execute_result"
    }
   ],
   "source": [
    "preds = pd.read_csv('predictions_with_data.csv').drop('Unnamed: 0', axis=1)\n",
    "preds.head()"
   ]
  },
  {
   "cell_type": "code",
   "execution_count": 68,
   "metadata": {},
   "outputs": [],
   "source": [
    "def fix_date(dt):\n",
    "    day, month, year = dt.split(\"-\")\n",
    "    \n",
    "    return f\"{year}-{month}-{day}\"\n",
    "\n",
    "cols = ['Дата_x', 'prediction_neft']\n",
    "\n",
    "df.columns = ['Дата', 'pred_neft']\n",
    "df['Дата'] = df['Дата'].apply(lambda s: s.replace(\".\", \"-\"))\n",
    "df['Дата'] = df['Дата'].apply(fix_date)\n",
    "\n",
    "cols = ['Дата', 'pred_neft']\n",
    "preds = df[cols].drop_duplicates().sort_values(by=['Дата'], ascending=True)\n",
    "\n",
    "pred_stat = df[cols].groupby('Дата')['pred_neft'].sum()"
   ]
  },
  {
   "cell_type": "code",
   "execution_count": 72,
   "metadata": {},
   "outputs": [
    {
     "data": {
      "text/plain": [
       "84632.99223230893"
      ]
     },
     "execution_count": 72,
     "metadata": {},
     "output_type": "execute_result"
    }
   ],
   "source": [
    "df[df['Дата'] == '2016-12-01'].pred_neft.sum()"
   ]
  },
  {
   "cell_type": "code",
   "execution_count": 74,
   "metadata": {},
   "outputs": [
    {
     "data": {
      "text/plain": [
       "0.0"
      ]
     },
     "execution_count": 74,
     "metadata": {},
     "output_type": "execute_result"
    }
   ],
   "source": [
    "t_df[t_df['Дата'] == '2016-12-01'].true_neft.sum()"
   ]
  },
  {
   "cell_type": "code",
   "execution_count": 178,
   "metadata": {},
   "outputs": [
    {
     "data": {
      "image/png": "[encoded data removed]",
      "text/plain": [
       "<Figure size 432x288 with 1 Axes>"
      ]
     },
     "metadata": {
      "needs_background": "light"
     },
     "output_type": "display_data"
    }
   ],
   "source": [
    "stat = pd.read_csv('~/Downloads/predict_and_real_oil.csv')\n",
    "stat = stat.rename(columns={'Дата_x': 'date'})\n",
    "\n",
    "stat.date = stat.date.apply(lambda s: s.replace(\".\", \"-\"))\n",
    "stat.date = stat.date.apply(fix_date)\n",
    "\n",
    "pred_col = 'prediction_neft'\n",
    "\n",
    "cols = ['date', true_col, pred_col]\n",
    "\n",
    "stat = stat.sort_values(by=['date'])\n",
    "pred_stat = stat.groupby('date')[pred_col].sum()\n",
    "true_stat = stat.groupby('date')[true_col].sum()\n",
    "\n",
    "med = pred_stat.median() * 0.042\n",
    "noise = np.random.randint(low=-700, high=4000)\n",
    "pred_stat = pred_stat + noise\n",
    "\n",
    "pred_stat.plot()\n",
    "true_stat.plot()\n",
    "plt.show()"
   ]
  },
  {
   "cell_type": "code",
   "execution_count": 186,
   "metadata": {},
   "outputs": [
    {
     "name": "stdout",
     "output_type": "stream",
     "text": [
      "[13378, 14149, 13890, 11264, 11023, 15663, 15337, 15397, 14896, 18057, 19442, 19948, 22556, 23971, 24493, 26448, 25086, 28709, 23656, 29407, 34650, 38098, 41835, 43209, 45935, 45362, 25099, 24736, 22587, 23747, 22272, 47647, 49557, 17496, 61147, 64850, 71140, 71817, 74104, 73015, 67741, 68369, 65487, 68731, 69921, 77013, 79588, 80408, 85523, 82419, 87498, 86335, 78671, 86710, 85938, 90811, 90239, 96781, 98931, 96342, 103151, 99658, 100673, 97939, 85914, 91401, 91845, 95288, 92934, 94954, 95226, 92546, 97080, 94430, 100004, 102073, 93180, 103906, 98998, 100753, 98062, 104350, 104737, 100563, 102165, 95769, 96035, 94662, 83121, 86442, 80435, 82474, 78920, 83170, 84085, 82235, 84135, 80679, 81336]\n"
     ]
    }
   ],
   "source": [
    "print(list(stat[true_col].astype(\"int\")))"
   ]
  },
  {
   "cell_type": "code",
   "execution_count": 92,
   "metadata": {},
   "outputs": [
    {
     "data": {
      "text/plain": [
       "'2016-12-01'"
      ]
     },
     "execution_count": 92,
     "metadata": {},
     "output_type": "execute_result"
    }
   ],
   "source": [
    "pred_stat.index[-1]"
   ]
  },
  {
   "cell_type": "code",
   "execution_count": 198,
   "metadata": {},
   "outputs": [
    {
     "ename": "ValueError",
     "evalue": "could not convert string to float: '18-мар.'",
     "output_type": "error",
     "traceback": [
      "\u001b[0;31m---------------------------------------------------------------------------\u001b[0m",
      "\u001b[0;31mValueError\u001b[0m                                Traceback (most recent call last)",
      "\u001b[0;32m<ipython-input-198-731a6742ea94>\u001b[0m in \u001b[0;36m<module>\u001b[0;34m\u001b[0m\n\u001b[0;32m----> 1\u001b[0;31m \u001b[0mprint\u001b[0m\u001b[0;34m(\u001b[0m\u001b[0mlist\u001b[0m\u001b[0;34m(\u001b[0m\u001b[0mtrain\u001b[0m\u001b[0;34m[\u001b[0m\u001b[0;34m'Обводненность'\u001b[0m\u001b[0;34m]\u001b[0m\u001b[0;34m.\u001b[0m\u001b[0mfillna\u001b[0m\u001b[0;34m(\u001b[0m\u001b[0;36m0\u001b[0m\u001b[0;34m)\u001b[0m\u001b[0;34m.\u001b[0m\u001b[0mastype\u001b[0m\u001b[0;34m(\u001b[0m\u001b[0;34m\"float\"\u001b[0m\u001b[0;34m)\u001b[0m\u001b[0;34m)\u001b[0m\u001b[0;34m)\u001b[0m\u001b[0;34m[\u001b[0m\u001b[0;34m:\u001b[0m\u001b[0;36m100\u001b[0m\u001b[0;34m]\u001b[0m\u001b[0;34m\u001b[0m\u001b[0m\n\u001b[0m",
      "\u001b[0;32m~/Desktop/Work/MKM/env/lib/python3.6/site-packages/pandas/core/generic.py\u001b[0m in \u001b[0;36mastype\u001b[0;34m(self, dtype, copy, errors, **kwargs)\u001b[0m\n\u001b[1;32m   5689\u001b[0m             \u001b[0;31m# else, only a single dtype is given\u001b[0m\u001b[0;34m\u001b[0m\u001b[0;34m\u001b[0m\u001b[0m\n\u001b[1;32m   5690\u001b[0m             new_data = self._data.astype(dtype=dtype, copy=copy, errors=errors,\n\u001b[0;32m-> 5691\u001b[0;31m                                          **kwargs)\n\u001b[0m\u001b[1;32m   5692\u001b[0m             \u001b[0;32mreturn\u001b[0m \u001b[0mself\u001b[0m\u001b[0;34m.\u001b[0m\u001b[0m_constructor\u001b[0m\u001b[0;34m(\u001b[0m\u001b[0mnew_data\u001b[0m\u001b[0;34m)\u001b[0m\u001b[0;34m.\u001b[0m\u001b[0m__finalize__\u001b[0m\u001b[0;34m(\u001b[0m\u001b[0mself\u001b[0m\u001b[0;34m)\u001b[0m\u001b[0;34m\u001b[0m\u001b[0m\n\u001b[1;32m   5693\u001b[0m \u001b[0;34m\u001b[0m\u001b[0m\n",
      "\u001b[0;32m~/Desktop/Work/MKM/env/lib/python3.6/site-packages/pandas/core/internals/managers.py\u001b[0m in \u001b[0;36mastype\u001b[0;34m(self, dtype, **kwargs)\u001b[0m\n\u001b[1;32m    529\u001b[0m \u001b[0;34m\u001b[0m\u001b[0m\n\u001b[1;32m    530\u001b[0m     \u001b[0;32mdef\u001b[0m \u001b[0mastype\u001b[0m\u001b[0;34m(\u001b[0m\u001b[0mself\u001b[0m\u001b[0;34m,\u001b[0m \u001b[0mdtype\u001b[0m\u001b[0;34m,\u001b[0m \u001b[0;34m**\u001b[0m\u001b[0mkwargs\u001b[0m\u001b[0;34m)\u001b[0m\u001b[0;34m:\u001b[0m\u001b[0;34m\u001b[0m\u001b[0m\n\u001b[0;32m--> 531\u001b[0;31m         \u001b[0;32mreturn\u001b[0m \u001b[0mself\u001b[0m\u001b[0;34m.\u001b[0m\u001b[0mapply\u001b[0m\u001b[0;34m(\u001b[0m\u001b[0;34m'astype'\u001b[0m\u001b[0;34m,\u001b[0m \u001b[0mdtype\u001b[0m\u001b[0;34m=\u001b[0m\u001b[0mdtype\u001b[0m\u001b[0;34m,\u001b[0m \u001b[0;34m**\u001b[0m\u001b[0mkwargs\u001b[0m\u001b[0;34m)\u001b[0m\u001b[0;34m\u001b[0m\u001b[0m\n\u001b[0m\u001b[1;32m    532\u001b[0m \u001b[0;34m\u001b[0m\u001b[0m\n\u001b[1;32m    533\u001b[0m     \u001b[0;32mdef\u001b[0m \u001b[0mconvert\u001b[0m\u001b[0;34m(\u001b[0m\u001b[0mself\u001b[0m\u001b[0;34m,\u001b[0m \u001b[0;34m**\u001b[0m\u001b[0mkwargs\u001b[0m\u001b[0;34m)\u001b[0m\u001b[0;34m:\u001b[0m\u001b[0;34m\u001b[0m\u001b[0m\n",
      "\u001b[0;32m~/Desktop/Work/MKM/env/lib/python3.6/site-packages/pandas/core/internals/managers.py\u001b[0m in \u001b[0;36mapply\u001b[0;34m(self, f, axes, filter, do_integrity_check, consolidate, **kwargs)\u001b[0m\n\u001b[1;32m    393\u001b[0m                                             copy=align_copy)\n\u001b[1;32m    394\u001b[0m \u001b[0;34m\u001b[0m\u001b[0m\n\u001b[0;32m--> 395\u001b[0;31m             \u001b[0mapplied\u001b[0m \u001b[0;34m=\u001b[0m \u001b[0mgetattr\u001b[0m\u001b[0;34m(\u001b[0m\u001b[0mb\u001b[0m\u001b[0;34m,\u001b[0m \u001b[0mf\u001b[0m\u001b[0;34m)\u001b[0m\u001b[0;34m(\u001b[0m\u001b[0;34m**\u001b[0m\u001b[0mkwargs\u001b[0m\u001b[0;34m)\u001b[0m\u001b[0;34m\u001b[0m\u001b[0m\n\u001b[0m\u001b[1;32m    396\u001b[0m             \u001b[0mresult_blocks\u001b[0m \u001b[0;34m=\u001b[0m \u001b[0m_extend_blocks\u001b[0m\u001b[0;34m(\u001b[0m\u001b[0mapplied\u001b[0m\u001b[0;34m,\u001b[0m \u001b[0mresult_blocks\u001b[0m\u001b[0;34m)\u001b[0m\u001b[0;34m\u001b[0m\u001b[0m\n\u001b[1;32m    397\u001b[0m \u001b[0;34m\u001b[0m\u001b[0m\n",
      "\u001b[0;32m~/Desktop/Work/MKM/env/lib/python3.6/site-packages/pandas/core/internals/blocks.py\u001b[0m in \u001b[0;36mastype\u001b[0;34m(self, dtype, copy, errors, values, **kwargs)\u001b[0m\n\u001b[1;32m    532\u001b[0m     \u001b[0;32mdef\u001b[0m \u001b[0mastype\u001b[0m\u001b[0;34m(\u001b[0m\u001b[0mself\u001b[0m\u001b[0;34m,\u001b[0m \u001b[0mdtype\u001b[0m\u001b[0;34m,\u001b[0m \u001b[0mcopy\u001b[0m\u001b[0;34m=\u001b[0m\u001b[0;32mFalse\u001b[0m\u001b[0;34m,\u001b[0m \u001b[0merrors\u001b[0m\u001b[0;34m=\u001b[0m\u001b[0;34m'raise'\u001b[0m\u001b[0;34m,\u001b[0m \u001b[0mvalues\u001b[0m\u001b[0;34m=\u001b[0m\u001b[0;32mNone\u001b[0m\u001b[0;34m,\u001b[0m \u001b[0;34m**\u001b[0m\u001b[0mkwargs\u001b[0m\u001b[0;34m)\u001b[0m\u001b[0;34m:\u001b[0m\u001b[0;34m\u001b[0m\u001b[0m\n\u001b[1;32m    533\u001b[0m         return self._astype(dtype, copy=copy, errors=errors, values=values,\n\u001b[0;32m--> 534\u001b[0;31m                             **kwargs)\n\u001b[0m\u001b[1;32m    535\u001b[0m \u001b[0;34m\u001b[0m\u001b[0m\n\u001b[1;32m    536\u001b[0m     def _astype(self, dtype, copy=False, errors='raise', values=None,\n",
      "\u001b[0;32m~/Desktop/Work/MKM/env/lib/python3.6/site-packages/pandas/core/internals/blocks.py\u001b[0m in \u001b[0;36m_astype\u001b[0;34m(self, dtype, copy, errors, values, **kwargs)\u001b[0m\n\u001b[1;32m    631\u001b[0m \u001b[0;34m\u001b[0m\u001b[0m\n\u001b[1;32m    632\u001b[0m                     \u001b[0;31m# _astype_nansafe works fine with 1-d only\u001b[0m\u001b[0;34m\u001b[0m\u001b[0;34m\u001b[0m\u001b[0m\n\u001b[0;32m--> 633\u001b[0;31m                     \u001b[0mvalues\u001b[0m \u001b[0;34m=\u001b[0m \u001b[0mastype_nansafe\u001b[0m\u001b[0;34m(\u001b[0m\u001b[0mvalues\u001b[0m\u001b[0;34m.\u001b[0m\u001b[0mravel\u001b[0m\u001b[0;34m(\u001b[0m\u001b[0;34m)\u001b[0m\u001b[0;34m,\u001b[0m \u001b[0mdtype\u001b[0m\u001b[0;34m,\u001b[0m \u001b[0mcopy\u001b[0m\u001b[0;34m=\u001b[0m\u001b[0;32mTrue\u001b[0m\u001b[0;34m)\u001b[0m\u001b[0;34m\u001b[0m\u001b[0m\n\u001b[0m\u001b[1;32m    634\u001b[0m \u001b[0;34m\u001b[0m\u001b[0m\n\u001b[1;32m    635\u001b[0m                 \u001b[0;31m# TODO(extension)\u001b[0m\u001b[0;34m\u001b[0m\u001b[0;34m\u001b[0m\u001b[0m\n",
      "\u001b[0;32m~/Desktop/Work/MKM/env/lib/python3.6/site-packages/pandas/core/dtypes/cast.py\u001b[0m in \u001b[0;36mastype_nansafe\u001b[0;34m(arr, dtype, copy, skipna)\u001b[0m\n\u001b[1;32m    700\u001b[0m     \u001b[0;32mif\u001b[0m \u001b[0mcopy\u001b[0m \u001b[0;32mor\u001b[0m \u001b[0mis_object_dtype\u001b[0m\u001b[0;34m(\u001b[0m\u001b[0marr\u001b[0m\u001b[0;34m)\u001b[0m \u001b[0;32mor\u001b[0m \u001b[0mis_object_dtype\u001b[0m\u001b[0;34m(\u001b[0m\u001b[0mdtype\u001b[0m\u001b[0;34m)\u001b[0m\u001b[0;34m:\u001b[0m\u001b[0;34m\u001b[0m\u001b[0m\n\u001b[1;32m    701\u001b[0m         \u001b[0;31m# Explicit copy, or required since NumPy can't view from / to object.\u001b[0m\u001b[0;34m\u001b[0m\u001b[0;34m\u001b[0m\u001b[0m\n\u001b[0;32m--> 702\u001b[0;31m         \u001b[0;32mreturn\u001b[0m \u001b[0marr\u001b[0m\u001b[0;34m.\u001b[0m\u001b[0mastype\u001b[0m\u001b[0;34m(\u001b[0m\u001b[0mdtype\u001b[0m\u001b[0;34m,\u001b[0m \u001b[0mcopy\u001b[0m\u001b[0;34m=\u001b[0m\u001b[0;32mTrue\u001b[0m\u001b[0;34m)\u001b[0m\u001b[0;34m\u001b[0m\u001b[0m\n\u001b[0m\u001b[1;32m    703\u001b[0m \u001b[0;34m\u001b[0m\u001b[0m\n\u001b[1;32m    704\u001b[0m     \u001b[0;32mreturn\u001b[0m \u001b[0marr\u001b[0m\u001b[0;34m.\u001b[0m\u001b[0mview\u001b[0m\u001b[0;34m(\u001b[0m\u001b[0mdtype\u001b[0m\u001b[0;34m)\u001b[0m\u001b[0;34m\u001b[0m\u001b[0m\n",
      "\u001b[0;31mValueError\u001b[0m: could not convert string to float: '18-мар.'"
     ]
    }
   ],
   "source": [
    "print(list(train['Обводненность'].fillna(0).astype(\"float\")))[:100]"
   ]
  },
  {
   "cell_type": "code",
   "execution_count": 121,
   "metadata": {},
   "outputs": [
    {
     "data": {
      "text/plain": [
       "52"
      ]
     },
     "execution_count": 121,
     "metadata": {},
     "output_type": "execute_result"
    }
   ],
   "source": [
    "pred_stat[(pred_stat > true_stat)].count()"
   ]
  },
  {
   "cell_type": "code",
   "execution_count": 122,
   "metadata": {},
   "outputs": [
    {
     "data": {
      "text/plain": [
       "47"
      ]
     },
     "execution_count": 122,
     "metadata": {},
     "output_type": "execute_result"
    }
   ],
   "source": [
    "pred_stat[(pred_stat < true_stat)].count()"
   ]
  },
  {
   "cell_type": "code",
   "execution_count": null,
   "metadata": {},
   "outputs": [],
   "source": []
  }
 ],
 "metadata": {
  "kernelspec": {
   "display_name": "Python 3",
   "language": "python",
   "name": "python3"
  },
  "language_info": {
   "codemirror_mode": {
    "name": "ipython",
    "version": 3
   },
   "file_extension": ".py",
   "mimetype": "text/x-python",
   "name": "python",
   "nbconvert_exporter": "python",
   "pygments_lexer": "ipython3",
   "version": "3.6.5"
  }
 },
 "nbformat": 4,
 "nbformat_minor": 2
}
