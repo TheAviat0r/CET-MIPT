{
 "cells": [
  {
   "cell_type": "code",
   "execution_count": 1,
   "metadata": {},
   "outputs": [],
   "source": [
    "import numpy as np\n",
    "import pandas as pd\n",
    "import random \n",
    "import matplotlib.pyplot as plt\n",
    "import seaborn as sns\n",
    "from sklearn.ensemble import RandomForestClassifier, ExtraTreesClassifier\n",
    "from sklearn.model_selection import cross_val_score, StratifiedKFold\n",
    "from sklearn.model_selection import ParameterGrid\n",
    "from tqdm import tqdm_notebook"
   ]
  },
  {
   "cell_type": "code",
   "execution_count": 2,
   "metadata": {
    "collapsed": true
   },
   "outputs": [],
   "source": [
    "train = pd.read_csv('./train.csv', index_col='PassengerId')\n",
    "test = pd.read_csv('./test.csv', index_col='PassengerId')"
   ]
  },
  {
   "cell_type": "code",
   "execution_count": 3,
   "metadata": {},
   "outputs": [],
   "source": [
    "data = pd.concat([train, test], axis=0)"
   ]
  },
  {
   "cell_type": "code",
   "execution_count": 4,
   "metadata": {},
   "outputs": [],
   "source": [
    "cat_cols=['Pclass','Sex','Embarked', 'Status']"
   ]
  },
  {
   "cell_type": "code",
   "execution_count": 5,
   "metadata": {},
   "outputs": [],
   "source": [
    "data['Status'] = data.Name.apply(lambda x: x.split(',')[1].split('.')[0])"
   ]
  },
  {
   "cell_type": "code",
   "execution_count": 6,
   "metadata": {},
   "outputs": [],
   "source": [
    "#fill nan in Age by their mean values in Status group\n",
    "data.Age = data.Age.fillna(data.Status.map(data.groupby('Status').Age.mean()))"
   ]
  },
  {
   "cell_type": "code",
   "execution_count": 7,
   "metadata": {},
   "outputs": [],
   "source": [
    "data = pd.get_dummies(data, columns=cat_cols, drop_first=True)"
   ]
  },
  {
   "cell_type": "code",
   "execution_count": 8,
   "metadata": {},
   "outputs": [],
   "source": [
    "cols = [x for x in data if x not in ['Survived', 'Ticket', 'Cabin', 'Name', 'Fare']]"
   ]
  },
  {
   "cell_type": "code",
   "execution_count": 9,
   "metadata": {
    "collapsed": true
   },
   "outputs": [],
   "source": [
    "X_train = data[~data.Survived.isnull()][cols]\n",
    "y_train = data[~data.Survived.isnull()].Survived\n",
    "X_test = data[data.Survived.isnull()][cols]"
   ]
  },
  {
   "cell_type": "code",
   "execution_count": 10,
   "metadata": {
    "collapsed": true
   },
   "outputs": [],
   "source": [
    "folds = StratifiedKFold(5)\n",
    "folds = folds.split(X_train, y_train)\n",
    "folds = list(folds)"
   ]
  },
  {
   "cell_type": "code",
   "execution_count": 11,
   "metadata": {},
   "outputs": [],
   "source": [
    "ParamGrid = {'max_depth': np.arange(3, 7),\n",
    "             'ntree': np.arange(50, 200, 10)}"
   ]
  },
  {
   "cell_type": "code",
   "execution_count": 12,
   "metadata": {},
   "outputs": [
    {
     "data": {
      "application/vnd.jupyter.widget-view+json": {
       "model_id": "0e29a21b7e564840b72c93a33aabfe0d",
       "version_major": 2,
       "version_minor": 0
      },
      "text/plain": [
       "A Jupyter Widget"
      ]
     },
     "metadata": {},
     "output_type": "display_data"
    },
    {
     "name": "stdout",
     "output_type": "stream",
     "text": [
      "Improved, best score is 0.8136756074129003\n",
      "Improved, best score is 0.8147992029185183\n",
      "Improved, best score is 0.8260668979607326\n",
      "Improved, best score is 0.8294188532679951\n",
      "Improved, best score is 0.8294377554049296\n",
      "Improved, best score is 0.8305550738406838\n",
      "Improved, best score is 0.8316850173435085\n",
      "\n"
     ]
    }
   ],
   "source": [
    "best_score = -np.inf\n",
    "best_params_rf = None\n",
    "for param in tqdm_notebook(ParameterGrid(ParamGrid)):\n",
    "    model = RandomForestClassifier(n_estimators=param['ntree'], max_depth=param['max_depth'], random_state=1)\n",
    "    scores = cross_val_score(model, X_train.fillna(0), y_train, n_jobs=1, cv=folds)\n",
    "    if best_score<np.mean(scores):\n",
    "        best_score = np.mean(scores)\n",
    "        best_params_rf = param\n",
    "        print('Improved, best score is {}'.format(best_score))"
   ]
  },
  {
   "cell_type": "code",
   "execution_count": 13,
   "metadata": {
    "scrolled": true
   },
   "outputs": [
    {
     "data": {
      "application/vnd.jupyter.widget-view+json": {
       "model_id": "bb3597f6687d4b7cbf7b1cc561cd9eb3",
       "version_major": 2,
       "version_minor": 0
      },
      "text/plain": [
       "A Jupyter Widget"
      ]
     },
     "metadata": {},
     "output_type": "display_data"
    },
    {
     "name": "stdout",
     "output_type": "stream",
     "text": [
      "Improved, best score is 0.8058040199490245\n",
      "Improved, best score is 0.8058291991558229\n",
      "Improved, best score is 0.8181447393012309\n",
      "Improved, best score is 0.8192620577369851\n",
      "Improved, best score is 0.8203982783096737\n",
      "Improved, best score is 0.820429876441022\n",
      "Improved, best score is 0.8204487785779564\n",
      "Improved, best score is 0.8249496504523215\n",
      "Improved, best score is 0.8272095374579711\n",
      "Improved, best score is 0.8272221625250419\n",
      "\n"
     ]
    }
   ],
   "source": [
    "best_score = -np.inf\n",
    "best_params_et = None\n",
    "for param in tqdm_notebook(ParameterGrid(ParamGrid)):\n",
    "    model = ExtraTreesClassifier(n_estimators=param['ntree'], max_depth=param['max_depth'], random_state=1)\n",
    "    scores = cross_val_score(model, X_train.fillna(0), y_train, n_jobs=1, cv=folds)\n",
    "    if best_score<np.mean(scores):\n",
    "        best_score = np.mean(scores)\n",
    "        best_params_et = param\n",
    "        print('Improved, best score is {}'.format(best_score))"
   ]
  },
  {
   "cell_type": "code",
   "execution_count": 23,
   "metadata": {},
   "outputs": [
    {
     "data": {
      "application/vnd.jupyter.widget-view+json": {
       "model_id": "c3cd3397020646aa80b208c2e740d1d3",
       "version_major": 2,
       "version_minor": 0
      },
      "text/plain": [
       "A Jupyter Widget"
      ]
     },
     "metadata": {},
     "output_type": "display_data"
    },
    {
     "name": "stdout",
     "output_type": "stream",
     "text": [
      "\n"
     ]
    },
    {
     "ename": "ValueError",
     "evalue": "operands could not be broadcast together with shapes (891,) (418,) (891,) ",
     "output_type": "error",
     "traceback": [
      "\u001b[0;31m---------------------------------------------------------------------------\u001b[0m",
      "\u001b[0;31mValueError\u001b[0m                                Traceback (most recent call last)",
      "\u001b[0;32m<ipython-input-23-ea57c3ce24d6>\u001b[0m in \u001b[0;36m<module>\u001b[0;34m()\u001b[0m\n\u001b[1;32m      6\u001b[0m     \u001b[0mmodel_et\u001b[0m \u001b[0;34m=\u001b[0m \u001b[0mExtraTreesClassifier\u001b[0m\u001b[0;34m(\u001b[0m\u001b[0mn_estimators\u001b[0m\u001b[0;34m=\u001b[0m\u001b[0mbest_params_et\u001b[0m\u001b[0;34m[\u001b[0m\u001b[0;34m'ntree'\u001b[0m\u001b[0;34m]\u001b[0m\u001b[0;34m,\u001b[0m \u001b[0mmax_depth\u001b[0m\u001b[0;34m=\u001b[0m\u001b[0mbest_params_et\u001b[0m\u001b[0;34m[\u001b[0m\u001b[0;34m'max_depth'\u001b[0m\u001b[0;34m]\u001b[0m\u001b[0;34m,\u001b[0m \u001b[0mrandom_state\u001b[0m\u001b[0;34m=\u001b[0m\u001b[0mrs\u001b[0m\u001b[0;34m)\u001b[0m\u001b[0;34m\u001b[0m\u001b[0m\n\u001b[1;32m      7\u001b[0m     \u001b[0mmodel_et\u001b[0m\u001b[0;34m.\u001b[0m\u001b[0mfit\u001b[0m\u001b[0;34m(\u001b[0m\u001b[0mX_train\u001b[0m\u001b[0;34m.\u001b[0m\u001b[0mfillna\u001b[0m\u001b[0;34m(\u001b[0m\u001b[0;36m0\u001b[0m\u001b[0;34m)\u001b[0m\u001b[0;34m,\u001b[0m \u001b[0my_train\u001b[0m\u001b[0;34m)\u001b[0m\u001b[0;34m\u001b[0m\u001b[0m\n\u001b[0;32m----> 8\u001b[0;31m     \u001b[0mpreds\u001b[0m \u001b[0;34m+=\u001b[0m \u001b[0mmodel_rf\u001b[0m\u001b[0;34m.\u001b[0m\u001b[0mpredict_proba\u001b[0m\u001b[0;34m(\u001b[0m\u001b[0mX_test\u001b[0m\u001b[0;34m)\u001b[0m\u001b[0;34m[\u001b[0m\u001b[0;34m:\u001b[0m\u001b[0;34m,\u001b[0m \u001b[0;36m1\u001b[0m\u001b[0;34m]\u001b[0m\u001b[0;34m\u001b[0m\u001b[0m\n\u001b[0m\u001b[1;32m      9\u001b[0m     \u001b[0mpreds\u001b[0m \u001b[0;34m+=\u001b[0m \u001b[0mmodel_et\u001b[0m\u001b[0;34m.\u001b[0m\u001b[0mpredict_proba\u001b[0m\u001b[0;34m(\u001b[0m\u001b[0mX_test\u001b[0m\u001b[0;34m)\u001b[0m\u001b[0;34m[\u001b[0m\u001b[0;34m:\u001b[0m\u001b[0;34m,\u001b[0m \u001b[0;36m1\u001b[0m\u001b[0;34m]\u001b[0m\u001b[0;34m\u001b[0m\u001b[0m\n",
      "\u001b[0;31mValueError\u001b[0m: operands could not be broadcast together with shapes (891,) (418,) (891,) "
     ]
    }
   ],
   "source": [
    "#fit it for different random states for stability and reducing the variance\n",
    "preds = np.zeros(len(X_train))\n",
    "for rs in tqdm_notebook(np.arange(1, 11, 1)):\n",
    "    model_rf = RandomForestClassifier(n_estimators=best_params_rf['ntree'], max_depth=best_params_rf['max_depth'], random_state=rs)\n",
    "    model_rf.fit(X_train.fillna(0), y_train)\n",
    "    model_et = ExtraTreesClassifier(n_estimators=best_params_et['ntree'], max_depth=best_params_et['max_depth'], random_state=rs)\n",
    "    model_et.fit(X_train.fillna(0), y_train)\n",
    "    preds += model_rf.predict_proba(X_test)[:, 1]\n",
    "    preds += model_et.predict_proba(X_test)[:, 1]"
   ]
  },
  {
   "cell_type": "code",
   "execution_count": null,
   "metadata": {
    "collapsed": true
   },
   "outputs": [],
   "source": []
  },
  {
   "cell_type": "code",
   "execution_count": 162,
   "metadata": {},
   "outputs": [],
   "source": [
    "X_test['Survived'] = model.predict(X_test.fillna(0)).astype(int)"
   ]
  },
  {
   "cell_type": "code",
   "execution_count": 163,
   "metadata": {},
   "outputs": [],
   "source": [
    "X_test[['Survived']].to_csv('submit.csv')"
   ]
  },
  {
   "cell_type": "code",
   "execution_count": null,
   "metadata": {
    "collapsed": true
   },
   "outputs": [],
   "source": []
  }
 ],
 "metadata": {
  "anaconda-cloud": {},
  "kernelspec": {
   "display_name": "Python 3",
   "language": "python",
   "name": "python3"
  },
  "language_info": {
   "codemirror_mode": {
    "name": "ipython",
    "version": 3
   },
   "file_extension": ".py",
   "mimetype": "text/x-python",
   "name": "python",
   "nbconvert_exporter": "python",
   "pygments_lexer": "ipython3",
   "version": "3.6.3"
  }
 },
 "nbformat": 4,
 "nbformat_minor": 1
}
