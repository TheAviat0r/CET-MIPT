{
 "cells": [
  {
   "cell_type": "code",
   "execution_count": 85,
   "metadata": {},
   "outputs": [],
   "source": [
    "import pandas as pd\n",
    "import numpy as np\n",
    "from sklearn.tree import DecisionTreeRegressor"
   ]
  },
  {
   "cell_type": "code",
   "execution_count": 86,
   "metadata": {},
   "outputs": [
    {
     "name": "stderr",
     "output_type": "stream",
     "text": [
      "/Users/mikhailgubarenko/anaconda3/lib/python3.7/site-packages/IPython/core/interactiveshell.py:3049: DtypeWarning: Columns (6,7,8,13,14,15,31,52) have mixed types. Specify dtype option on import or set low_memory=False.\n",
      "  interactivity=interactivity, compiler=compiler, result=result)\n"
     ]
    }
   ],
   "source": [
    "df_all = pd.read_csv('train_cor.csv')\n",
    "df_coords = pd.read_csv('coords.csv')\n",
    "df_all_with_coords = pd.merge(df_all, df_coords, left_on = 'Скважина', right_on = '№ скважины', how = 'inner')\n",
    "df_all_with_coords['нагнетатель'] = ''\n",
    "df_all_with_coords['дистанция'] = 0"
   ]
  },
  {
   "cell_type": "code",
   "execution_count": 87,
   "metadata": {},
   "outputs": [
    {
     "name": "stdout",
     "output_type": "stream",
     "text": [
      "01.12.2016\n",
      "01.11.2016\n",
      "01.10.2016\n",
      "01.09.2016\n",
      "01.08.2016\n",
      "01.07.2016\n",
      "01.06.2016\n",
      "01.05.2016\n",
      "01.04.2016\n",
      "01.03.2016\n",
      "01.02.2016\n",
      "01.01.2016\n",
      "01.12.2015\n",
      "01.11.2015\n",
      "01.10.2015\n",
      "01.09.2015\n",
      "01.08.2015\n",
      "01.07.2015\n",
      "01.06.2015\n",
      "01.05.2015\n",
      "01.04.2015\n",
      "01.03.2015\n",
      "01.02.2015\n",
      "01.01.2015\n",
      "01.12.2014\n",
      "01.11.2014\n",
      "01.10.2014\n",
      "01.09.2014\n",
      "01.08.2014\n",
      "01.07.2014\n",
      "01.06.2014\n",
      "01.05.2014\n",
      "01.04.2014\n",
      "01.03.2014\n",
      "01.02.2014\n",
      "01.01.2014\n",
      "01.12.2013\n",
      "01.11.2013\n",
      "01.10.2013\n",
      "01.09.2013\n",
      "01.08.2013\n",
      "01.07.2013\n",
      "01.06.2013\n",
      "01.05.2013\n",
      "01.04.2013\n",
      "01.03.2013\n",
      "01.02.2013\n",
      "01.01.2013\n",
      "01.12.2012\n",
      "01.11.2012\n",
      "01.10.2012\n",
      "01.09.2012\n",
      "01.08.2012\n",
      "01.07.2012\n",
      "01.06.2012\n",
      "01.05.2012\n",
      "01.04.2012\n",
      "01.03.2012\n",
      "01.02.2012\n",
      "01.01.2012\n",
      "01.12.2011\n",
      "01.11.2011\n",
      "01.10.2011\n",
      "01.09.2011\n",
      "01.08.2011\n",
      "01.07.2011\n",
      "01.06.2011\n",
      "01.05.2011\n",
      "01.04.2011\n",
      "01.03.2011\n",
      "01.02.2011\n",
      "01.01.2011\n",
      "01.12.2010\n",
      "01.11.2010\n",
      "01.10.2010\n",
      "01.09.2010\n",
      "01.08.2010\n",
      "01.07.2010\n",
      "01.06.2010\n",
      "01.05.2010\n",
      "01.04.2010\n",
      "01.03.2010\n",
      "01.02.2010\n",
      "01.01.2010\n",
      "01.12.2009\n",
      "01.11.2009\n",
      "01.10.2009\n",
      "01.09.2009\n",
      "01.08.2009\n",
      "01.07.2009\n",
      "01.06.2009\n",
      "01.05.2009\n",
      "01.04.2009\n",
      "01.03.2009\n",
      "01.02.2009\n",
      "01.01.2009\n",
      "01.12.2008\n",
      "01.11.2008\n",
      "01.10.2008\n",
      "01.09.2008\n",
      "01.08.2008\n",
      "01.07.2008\n",
      "01.06.2008\n",
      "01.05.2008\n",
      "01.04.2008\n",
      "01.03.2008\n",
      "01.02.2008\n",
      "01.01.2008\n",
      "01.12.2007\n",
      "01.11.2007\n",
      "01.10.2007\n",
      "01.09.2007\n",
      "01.08.2007\n",
      "01.07.2007\n",
      "01.06.2007\n",
      "01.05.2007\n",
      "01.04.2007\n",
      "01.03.2007\n",
      "01.02.2007\n",
      "01.01.2007\n",
      "01.12.2006\n",
      "01.11.2006\n",
      "01.10.2006\n",
      "01.09.2006\n"
     ]
    }
   ],
   "source": [
    "for item in df_all_with_coords['Дата'].unique():\n",
    "    print(item)\n",
    "    for neft in list(df_all_with_coords[(df_all_with_coords['Дата'] == item) & (df_all_with_coords['Характер работы'] == 'НЕФ')]['Скважина']):\n",
    "        nag_v_count = df_all_with_coords[(df_all_with_coords['Дата'] == item) & (df_all_with_coords['Характер работы'] == 'НАГ')].shape[0]\n",
    "        nag_v_names = list(df_all_with_coords[(df_all_with_coords['Дата'] == item) & (df_all_with_coords['Характер работы'] == 'НАГ')]['Скважина'])\n",
    "        distances = []\n",
    "        distance_mapping = {}\n",
    "        for i in range(nag_v_count):\n",
    "            a = abs(list(df_all_with_coords[df_all_with_coords['Скважина'] == nag_v_names[i]]['Координата X'])[0] - list(df_all_with_coords[df_all_with_coords['Скважина'] == neft]['Координата X'])[0])\n",
    "            b = abs(list(df_all_with_coords[df_all_with_coords['Скважина'] == nag_v_names[i]]['Координата Y'])[0] - list(df_all_with_coords[df_all_with_coords['Скважина'] == neft]['Координата Y'])[0])\n",
    "            distance_mapping[nag_v_names[i]] = (a**2 + b**2)**(1/2)\n",
    "        keys = list(dict(sorted([(v, k) for k, v in distance_mapping.items()])[-1:]).values())\n",
    "        \n",
    "        for i in range(len(keys)):\n",
    "            df_all_with_coords.loc[(df_all_with_coords['Скважина'] == neft) & (df_all_with_coords['Дата'] == item), 'нагнетатель' + str(i + 3)] = keys[i]\n",
    "            df_all_with_coords.loc[(df_all_with_coords['Скважина'] == neft) & (df_all_with_coords['Дата'] == item), 'дистанция' + str(i + 3)] = distance_mapping[keys[i]]"
   ]
  },
  {
   "cell_type": "code",
   "execution_count": 89,
   "metadata": {},
   "outputs": [
    {
     "name": "stderr",
     "output_type": "stream",
     "text": [
      "/Users/mikhailgubarenko/anaconda3/lib/python3.7/site-packages/ipykernel_launcher.py:8: SettingWithCopyWarning: \n",
      "A value is trying to be set on a copy of a slice from a DataFrame.\n",
      "Try using .loc[row_indexer,col_indexer] = value instead\n",
      "\n",
      "See the caveats in the documentation: http://pandas.pydata.org/pandas-docs/stable/indexing.html#indexing-view-versus-copy\n",
      "  \n",
      "/Users/mikhailgubarenko/anaconda3/lib/python3.7/site-packages/ipykernel_launcher.py:9: SettingWithCopyWarning: \n",
      "A value is trying to be set on a copy of a slice from a DataFrame.\n",
      "Try using .loc[row_indexer,col_indexer] = value instead\n",
      "\n",
      "See the caveats in the documentation: http://pandas.pydata.org/pandas-docs/stable/indexing.html#indexing-view-versus-copy\n",
      "  if __name__ == '__main__':\n",
      "/Users/mikhailgubarenko/anaconda3/lib/python3.7/site-packages/ipykernel_launcher.py:11: SettingWithCopyWarning: \n",
      "A value is trying to be set on a copy of a slice from a DataFrame.\n",
      "Try using .loc[row_indexer,col_indexer] = value instead\n",
      "\n",
      "See the caveats in the documentation: http://pandas.pydata.org/pandas-docs/stable/indexing.html#indexing-view-versus-copy\n",
      "  # This is added back by InteractiveShellApp.init_path()\n"
     ]
    }
   ],
   "source": [
    "df_neft = df_all_with_coords[(df_all_with_coords['Характер работы'] == 'НЕФ') & (df_all_with_coords['Состояние'] == 'РАБ.')]\n",
    "df_nagnet = df_all_with_coords[(df_all_with_coords['Характер работы'] == 'НАГ') & (df_all_with_coords['Состояние'] == 'РАБ.')]\n",
    "\n",
    "# df_neft['key_neft'] = df_neft['Скважина'] + df_neft['Дата']\n",
    "# df_neft['key_neft_nagnet_1'] = df_neft['нагнетатель1'] + df_neft['Дата']\n",
    "# df_neft['key_neft'] = df_neft['Скважина'] + df_neft['Дата']\n",
    "# df_neft['key_neft_nagnet_2'] = df_neft['нагнетатель2'] + df_neft['Дата']\n",
    "df_neft['key_neft'] = df_neft['Скважина'] + df_neft['Дата']\n",
    "df_neft['key_neft_nagnet_3'] = df_neft['нагнетатель3'] + df_neft['Дата']\n",
    "\n",
    "df_nagnet['key_nagnet'] = df_nagnet['Скважина'] + df_nagnet['Дата']"
   ]
  },
  {
   "cell_type": "code",
   "execution_count": 90,
   "metadata": {},
   "outputs": [],
   "source": [
    "df_neft = df_neft[['key_neft', 'Скважина', 'Дата', 'Характер работы',\n",
    "                   'Время работы, ч', 'Нефть, т', 'Вода, т', \n",
    "                   'Попутный газ, м3', 'Обводненность (вес), %', \n",
    "                   'Тип скважины', 'Диаметр НКТ', \n",
    "                   'Диаметр штуцера', 'Глубина верхних дыр перфорации', 'Удлинение', \n",
    "                   'Способ эксплуатации', 'Производительность ЭЦН', 'Напор', 'Частота', \n",
    "                   'Коэффициент сепарации', 'Глубина спуска', 'Буферное давление', \n",
    "                   'Давление в линии', 'Пластовое давление', 'Динамическая высота', \n",
    "                   'Затрубное давление', 'Давление на приеме', 'Забойное давление', \n",
    "                   'Дебит нефти', 'Дебит жидкости', 'Обводненность', \n",
    "                   'Состояние на конец месяца', 'Давление наcыщения', 'Газовый фактор', \n",
    "                   'Вязкость нефти в пластовых условиях', \n",
    "                   'Вязкость воды в пластовых условиях', \n",
    "                   'Вязкость жидкости в пласт. условиях', 'объемный коэффициент', \n",
    "                   'Плотность нефти', 'Плотность воды', 'Радиус контура питания', \n",
    "                   'Дата ввода в эксплуатацию', 'Замерное забойное давление',\n",
    "                   'нагнетатель3', 'дистанция', 'key_neft_nagnet_3'\n",
    "                  ]]\n",
    "\n",
    "df_nagnet = df_nagnet[['key_nagnet', 'Скважина', 'Дата', 'Закачка, м3',\n",
    "                       'Дата перевода в ППД', 'Н вд', 'Н нд', 'Удл', 'D э/к', 'D нкт', 'Н сп',\n",
    "                       'Приемистость', 'Р пл', 'Р заб расчётное', 'Потери давления на трение',\n",
    "                       'Р затр', 'Р уст', 'Закачка за месяц', 'Рпл', 'k', 'Р уст.1', 'Р заб',\n",
    "                      ]]"
   ]
  },
  {
   "cell_type": "code",
   "execution_count": 91,
   "metadata": {},
   "outputs": [],
   "source": [
    "df_full = pd.merge(df_neft, \\\n",
    "                   df_nagnet, \\\n",
    "                   left_on = 'key_neft_nagnet_3', \\\n",
    "                   right_on = 'key_nagnet', \\\n",
    "                   how = 'left') \n",
    "\n",
    "df_full_work = df_full\n",
    "\n",
    "df_full_work['Закачка, м3'].fillna(0.0, inplace = True)"
   ]
  },
  {
   "cell_type": "code",
   "execution_count": 92,
   "metadata": {},
   "outputs": [],
   "source": [
    "df_full_work['Нефть, т'] = df_full_work['Нефть, т'].apply(lambda x: float(str(x).replace(',','.'))) "
   ]
  },
  {
   "cell_type": "code",
   "execution_count": 93,
   "metadata": {},
   "outputs": [
    {
     "data": {
      "text/plain": [
       "Index(['key_neft', 'Скважина_x', 'Дата_x', 'Характер работы',\n",
       "       'Время работы, ч', 'Нефть, т', 'Вода, т', 'Попутный газ, м3',\n",
       "       'Обводненность (вес), %', 'Тип скважины', 'Диаметр НКТ',\n",
       "       'Диаметр штуцера', 'Глубина верхних дыр перфорации', 'Удлинение',\n",
       "       'Способ эксплуатации', 'Производительность ЭЦН', 'Напор', 'Частота',\n",
       "       'Коэффициент сепарации', 'Глубина спуска', 'Буферное давление',\n",
       "       'Давление в линии', 'Пластовое давление', 'Динамическая высота',\n",
       "       'Затрубное давление', 'Давление на приеме', 'Забойное давление',\n",
       "       'Дебит нефти', 'Дебит жидкости', 'Обводненность',\n",
       "       'Состояние на конец месяца', 'Давление наcыщения', 'Газовый фактор',\n",
       "       'Вязкость нефти в пластовых условиях',\n",
       "       'Вязкость воды в пластовых условиях',\n",
       "       'Вязкость жидкости в пласт. условиях', 'объемный коэффициент',\n",
       "       'Плотность нефти', 'Плотность воды', 'Радиус контура питания',\n",
       "       'Дата ввода в эксплуатацию', 'Замерное забойное давление',\n",
       "       'нагнетатель3', 'дистанция', 'key_neft_nagnet_3', 'key_nagnet',\n",
       "       'Скважина_y', 'Дата_y', 'Закачка, м3', 'Дата перевода в ППД', 'Н вд',\n",
       "       'Н нд', 'Удл', 'D э/к', 'D нкт', 'Н сп', 'Приемистость', 'Р пл',\n",
       "       'Р заб расчётное', 'Потери давления на трение', 'Р затр', 'Р уст',\n",
       "       'Закачка за месяц', 'Рпл', 'k', 'Р уст.1', 'Р заб'],\n",
       "      dtype='object')"
      ]
     },
     "execution_count": 93,
     "metadata": {},
     "output_type": "execute_result"
    }
   ],
   "source": [
    "df_full_work.columns"
   ]
  },
  {
   "cell_type": "code",
   "execution_count": 94,
   "metadata": {},
   "outputs": [],
   "source": [
    "qq = df_full_work[['key_neft_nagnet_3', 'Нефть, т', 'Закачка, м3']].groupby(['key_neft_nagnet_3']).agg({'Нефть, т' : 'sum', 'Закачка, м3' : 'max'})\n",
    "qq['Закачка, м3'].fillna(0.0, inplace = True)\n",
    "qq['koef'] = qq['Нефть, т'] / qq['Закачка, м3']"
   ]
  },
  {
   "cell_type": "code",
   "execution_count": 95,
   "metadata": {},
   "outputs": [
    {
     "name": "stderr",
     "output_type": "stream",
     "text": [
      "/Users/mikhailgubarenko/anaconda3/lib/python3.7/site-packages/ipykernel_launcher.py:2: SettingWithCopyWarning: \n",
      "A value is trying to be set on a copy of a slice from a DataFrame.\n",
      "Try using .loc[row_indexer,col_indexer] = value instead\n",
      "\n",
      "See the caveats in the documentation: http://pandas.pydata.org/pandas-docs/stable/indexing.html#indexing-view-versus-copy\n",
      "  \n"
     ]
    }
   ],
   "source": [
    "qwe = qq[(qq['Закачка, м3'] != 0.0) & (qq['koef'] > 5.0)]\n",
    "qwe['key_neft_nagnet_1'] = qwe.index\n",
    "qwe = qwe[['koef', 'key_neft_nagnet_1']]\n"
   ]
  },
  {
   "cell_type": "code",
   "execution_count": 96,
   "metadata": {},
   "outputs": [],
   "source": [
    "df_full_work = df_full_work[df_full_work['Закачка, м3'] != 0.0]\n",
    "df_whater = pd.merge(df_full_work, \n",
    "         qwe, \n",
    "         left_on = 'key_neft_nagnet_3', \n",
    "         right_on = 'key_neft_nagnet_1', \n",
    "         how = 'left')\n",
    "\n",
    "features_whater = ['Время работы, ч', \n",
    "'Обводненность (вес), %',\n",
    "'Диаметр НКТ', 'Диаметр штуцера', 'Глубина верхних дыр перфорации',\n",
    "'Производительность ЭЦН', 'Напор',\n",
    "'Частота', 'Коэффициент сепарации', 'Глубина спуска',\n",
    "'Буферное давление', 'Давление в линии', 'Пластовое давление',\n",
    "'Динамическая высота', 'Давление на приеме',\n",
    "'Забойное давление',\n",
    "'Давление наcыщения', 'Газовый фактор',\n",
    "'Вязкость воды в пластовых условиях',\n",
    "'Вязкость жидкости в пласт. условиях', 'объемный коэффициент',\n",
    "'Плотность нефти', 'Плотность воды', 'Радиус контура питания',\n",
    "'Замерное забойное давление',\n",
    "'дистанция', 'Затрубное давление',\n",
    "'Н вд',\n",
    "'Н нд', 'Удл', 'D э/к', 'D нкт', 'Н сп', 'Приемистость', 'Р пл',\n",
    "'Р заб расчётное', 'Потери давления на трение', 'Р затр', 'Р уст',\n",
    "'Рпл', 'k', 'Р уст.1', 'Р заб']\n",
    "target_whater = 'Закачка, м3'\n",
    "\n",
    "df_whater['Обводненность (вес), %'] = df_whater['Обводненность (вес), %'].apply(lambda x: float(str(x).replace(',','.')))\n",
    "df_whater['Удл'] = df_whater['Удл'].apply(lambda x: float(str(x).replace(',','.')))\n",
    "df_whater['Затрубное давление'] = df_whater['Затрубное давление'].apply(lambda s: '11.65' if s == 'ноя.65' else s)\n"
   ]
  },
  {
   "cell_type": "code",
   "execution_count": 97,
   "metadata": {},
   "outputs": [],
   "source": [
    "from sklearn.model_selection import train_test_split\n",
    "from sklearn.ensemble import GradientBoostingRegressor\n",
    "from sklearn.preprocessing import LabelEncoder\n",
    "\n",
    "target = 'Закачка, м3'\n",
    "\n",
    "X = df_whater[features_whater].copy()\n",
    "y = df_whater[target].copy()\n",
    "\n",
    "X_train, X_test, y_train, y_test = train_test_split(X, y, test_size=0.2)"
   ]
  },
  {
   "cell_type": "code",
   "execution_count": 98,
   "metadata": {},
   "outputs": [
    {
     "data": {
      "text/plain": [
       "0.0655832549157137"
      ]
     },
     "execution_count": 98,
     "metadata": {},
     "output_type": "execute_result"
    }
   ],
   "source": [
    "model_whater = GradientBoostingRegressor(random_state = 2)\n",
    "model_whater.fit(X_train.fillna(0), y_train)\n",
    " \n",
    "from sklearn.metrics import mean_absolute_error\n",
    "\n",
    "y_pred = model_whater.predict(X_test.fillna(0))\n",
    "err = mean_absolute_error(y_test, y_pred) / y_test.max()\n",
    "err"
   ]
  },
  {
   "cell_type": "code",
   "execution_count": 99,
   "metadata": {},
   "outputs": [
    {
     "name": "stderr",
     "output_type": "stream",
     "text": [
      "/Users/mikhailgubarenko/anaconda3/lib/python3.7/site-packages/ipykernel_launcher.py:1: SettingWithCopyWarning: \n",
      "A value is trying to be set on a copy of a slice from a DataFrame.\n",
      "Try using .loc[row_indexer,col_indexer] = value instead\n",
      "\n",
      "See the caveats in the documentation: http://pandas.pydata.org/pandas-docs/stable/indexing.html#indexing-view-versus-copy\n",
      "  \"\"\"Entry point for launching an IPython kernel.\n",
      "/Users/mikhailgubarenko/anaconda3/lib/python3.7/site-packages/ipykernel_launcher.py:2: SettingWithCopyWarning: \n",
      "A value is trying to be set on a copy of a slice from a DataFrame.\n",
      "Try using .loc[row_indexer,col_indexer] = value instead\n",
      "\n",
      "See the caveats in the documentation: http://pandas.pydata.org/pandas-docs/stable/indexing.html#indexing-view-versus-copy\n",
      "  \n"
     ]
    }
   ],
   "source": [
    "df_full_work['Удл'] = df_full_work['Удл'].apply(lambda x: float(str(x).replace(',','.')))\n",
    "df_full_work['Обводненность (вес), %'] = df_full_work['Обводненность (вес), %'].apply(lambda x: float(str(x).replace(',','.')))"
   ]
  },
  {
   "cell_type": "code",
   "execution_count": 100,
   "metadata": {},
   "outputs": [
    {
     "name": "stderr",
     "output_type": "stream",
     "text": [
      "/Users/mikhailgubarenko/anaconda3/lib/python3.7/site-packages/ipykernel_launcher.py:1: SettingWithCopyWarning: \n",
      "A value is trying to be set on a copy of a slice from a DataFrame.\n",
      "Try using .loc[row_indexer,col_indexer] = value instead\n",
      "\n",
      "See the caveats in the documentation: http://pandas.pydata.org/pandas-docs/stable/indexing.html#indexing-view-versus-copy\n",
      "  \"\"\"Entry point for launching an IPython kernel.\n",
      "/Users/mikhailgubarenko/anaconda3/lib/python3.7/site-packages/ipykernel_launcher.py:2: SettingWithCopyWarning: \n",
      "A value is trying to be set on a copy of a slice from a DataFrame.\n",
      "Try using .loc[row_indexer,col_indexer] = value instead\n",
      "\n",
      "See the caveats in the documentation: http://pandas.pydata.org/pandas-docs/stable/indexing.html#indexing-view-versus-copy\n",
      "  \n"
     ]
    }
   ],
   "source": [
    "df_full_work['Затрубное давление'] = df_full_work['Затрубное давление'].apply(lambda s: '11.65' if s == 'ноя.65' else s)\n",
    "df_full_work['prediction_whater'] = model_whater.predict(df_full_work[features_whater].fillna(0)) \n",
    "df_full_work_whater = pd.merge(df_full_work, \n",
    "         df_full_work[['key_neft_nagnet_3', 'prediction_whater']].groupby(['key_neft_nagnet_3'], as_index = False).agg({'prediction_whater' : 'mean'}).rename(columns={\"prediction_whater\": \"prediction_whater_mean\", \"key_neft_nagnet_3\": \"key_neft_nagnet_mean\"}),\n",
    "         left_on = 'key_neft_nagnet_3', \n",
    "         right_on = 'key_neft_nagnet_mean',\n",
    "         how = 'inner')"
   ]
  },
  {
   "cell_type": "code",
   "execution_count": null,
   "metadata": {},
   "outputs": [],
   "source": []
  },
  {
   "cell_type": "code",
   "execution_count": null,
   "metadata": {},
   "outputs": [],
   "source": []
  },
  {
   "cell_type": "code",
   "execution_count": null,
   "metadata": {},
   "outputs": [],
   "source": []
  },
  {
   "cell_type": "code",
   "execution_count": null,
   "metadata": {},
   "outputs": [],
   "source": []
  },
  {
   "cell_type": "code",
   "execution_count": null,
   "metadata": {},
   "outputs": [],
   "source": []
  },
  {
   "cell_type": "code",
   "execution_count": null,
   "metadata": {},
   "outputs": [],
   "source": []
  },
  {
   "cell_type": "code",
   "execution_count": 101,
   "metadata": {},
   "outputs": [],
   "source": [
    "features_neft = ['Время работы, ч', \n",
    "'Обводненность (вес), %',\n",
    "'Диаметр НКТ', 'Диаметр штуцера', 'Глубина верхних дыр перфорации',\n",
    "'Производительность ЭЦН', 'Напор',\n",
    "'Частота', 'Коэффициент сепарации', 'Глубина спуска',\n",
    "'Буферное давление', 'Давление в линии', 'Пластовое давление',\n",
    "'Динамическая высота', 'Давление на приеме',\n",
    "'Забойное давление', 'prediction_whater',\n",
    "'Давление наcыщения', 'Газовый фактор',\n",
    "'Вязкость воды в пластовых условиях',\n",
    "'Вязкость жидкости в пласт. условиях', 'объемный коэффициент',\n",
    "'Плотность нефти', 'Плотность воды', 'Радиус контура питания',\n",
    "'Замерное забойное давление',\n",
    "'дистанция',  \n",
    "'Н вд',\n",
    "'Н нд', 'Удл', 'D э/к', 'D нкт', 'Н сп', 'Приемистость', 'Р пл',\n",
    "'Р заб расчётное', 'Потери давления на трение', 'Р затр', 'Р уст',\n",
    "'Рпл', 'k', 'Р уст.1', 'Р заб']\n",
    "\n",
    "target_neft = 'Нефть, т'"
   ]
  },
  {
   "cell_type": "code",
   "execution_count": 102,
   "metadata": {},
   "outputs": [],
   "source": [
    "X = df_full_work_whater[features_neft].copy()\n",
    "y = df_full_work_whater[target_neft].copy()\n",
    "\n",
    "X_train, X_test, y_train, y_test = train_test_split(X, y, test_size=0.2)"
   ]
  },
  {
   "cell_type": "code",
   "execution_count": 103,
   "metadata": {},
   "outputs": [
    {
     "data": {
      "text/plain": [
       "0.07482431334079309"
      ]
     },
     "execution_count": 103,
     "metadata": {},
     "output_type": "execute_result"
    }
   ],
   "source": [
    "model_neft = GradientBoostingRegressor()\n",
    "model_neft.fit(X_train.fillna(0), y_train)\n",
    " \n",
    "from sklearn.metrics import mean_absolute_error\n",
    "\n",
    "y_pred = model_neft.predict(X_test.fillna(0))\n",
    "err = mean_absolute_error(y_test, y_pred) / y_test.max()\n",
    "err"
   ]
  },
  {
   "cell_type": "code",
   "execution_count": 104,
   "metadata": {},
   "outputs": [],
   "source": [
    "df_full_work_whater['prediction_neft'] = model_neft.predict(df_full_work_whater[features_neft].fillna(0)) "
   ]
  },
  {
   "cell_type": "code",
   "execution_count": 105,
   "metadata": {},
   "outputs": [
    {
     "data": {
      "text/plain": [
       "1428471.8358651532"
      ]
     },
     "execution_count": 105,
     "metadata": {},
     "output_type": "execute_result"
    }
   ],
   "source": [
    "df_full_work_whater[['key_neft_nagnet_3', 'prediction_whater']].groupby(['key_neft_nagnet_3'], as_index = False).agg({'prediction_whater':'max'})['prediction_whater'].sum()"
   ]
  },
  {
   "cell_type": "code",
   "execution_count": 106,
   "metadata": {},
   "outputs": [
    {
     "data": {
      "text/plain": [
       "6579229.186142335"
      ]
     },
     "execution_count": 106,
     "metadata": {},
     "output_type": "execute_result"
    }
   ],
   "source": [
    "df_full_work_whater['prediction_neft'].sum()"
   ]
  },
  {
   "cell_type": "code",
   "execution_count": 107,
   "metadata": {},
   "outputs": [
    {
     "data": {
      "text/plain": [
       "6563870.93"
      ]
     },
     "execution_count": 107,
     "metadata": {},
     "output_type": "execute_result"
    }
   ],
   "source": [
    "df_full_work_whater['Нефть, т'].sum()"
   ]
  },
  {
   "cell_type": "code",
   "execution_count": 108,
   "metadata": {},
   "outputs": [
    {
     "data": {
      "text/plain": [
       "1466815.0"
      ]
     },
     "execution_count": 108,
     "metadata": {},
     "output_type": "execute_result"
    }
   ],
   "source": [
    "df_full_work_whater[['key_neft_nagnet_3', 'Закачка, м3']].groupby(['key_neft_nagnet_3'], as_index = False).agg({'Закачка, м3':'max'})['Закачка, м3'].sum()"
   ]
  },
  {
   "cell_type": "code",
   "execution_count": null,
   "metadata": {},
   "outputs": [],
   "source": []
  },
  {
   "cell_type": "code",
   "execution_count": null,
   "metadata": {},
   "outputs": [],
   "source": []
  },
  {
   "cell_type": "code",
   "execution_count": null,
   "metadata": {},
   "outputs": [],
   "source": []
  },
  {
   "cell_type": "code",
   "execution_count": null,
   "metadata": {},
   "outputs": [],
   "source": []
  }
 ],
 "metadata": {
  "kernelspec": {
   "display_name": "Python 3",
   "language": "python",
   "name": "python3"
  },
  "language_info": {
   "codemirror_mode": {
    "name": "ipython",
    "version": 3
   },
   "file_extension": ".py",
   "mimetype": "text/x-python",
   "name": "python",
   "nbconvert_exporter": "python",
   "pygments_lexer": "ipython3",
   "version": "3.7.3"
  }
 },
 "nbformat": 4,
 "nbformat_minor": 2
}
